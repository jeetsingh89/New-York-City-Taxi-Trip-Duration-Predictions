{
 "cells": [
  {
   "cell_type": "markdown",
   "metadata": {},
   "source": [
    "# Course Project - New York city Taxi trip duration predictions\n",
    "\n",
    "This notebook is for the course https://jovian.ai/learn/machine-learning-with-python-zero-to-gbms.\n",
    "\n",
    "The objectives for this notebook are :\n",
    "\n",
    "* Understanding and defining the input and target columns.\n",
    "* Perform Exploratory Data Analysis.\n",
    "* Splitting the dataset into training, validation and test sets.\n",
    "* Try and fit different machine learning models to the data and find out the best model.\n",
    "* Hyperparameter tuning\n",
    "* Feature Engineering\n",
    "* Making Predictions on the test set."
   ]
  },
  {
   "cell_type": "code",
   "execution_count": 1,
   "metadata": {
    "execution": {
     "iopub.execute_input": "2021-08-19T18:29:15.984049Z",
     "iopub.status.busy": "2021-08-19T18:29:15.983323Z",
     "iopub.status.idle": "2021-08-19T18:29:24.645953Z",
     "shell.execute_reply": "2021-08-19T18:29:24.644576Z",
     "shell.execute_reply.started": "2021-08-19T18:29:15.983921Z"
    }
   },
   "outputs": [],
   "source": [
    "!pip install jovian --upgrade --quiet"
   ]
  },
  {
   "cell_type": "code",
   "execution_count": 2,
   "metadata": {
    "execution": {
     "iopub.execute_input": "2021-08-19T18:29:24.658684Z",
     "iopub.status.busy": "2021-08-19T18:29:24.658320Z",
     "iopub.status.idle": "2021-08-19T18:29:24.918483Z",
     "shell.execute_reply": "2021-08-19T18:29:24.917175Z",
     "shell.execute_reply.started": "2021-08-19T18:29:24.658647Z"
    }
   },
   "outputs": [],
   "source": [
    "import jovian"
   ]
  },
  {
   "cell_type": "code",
   "execution_count": 3,
   "metadata": {
    "execution": {
     "iopub.execute_input": "2021-08-19T18:29:24.921249Z",
     "iopub.status.busy": "2021-08-19T18:29:24.920772Z",
     "iopub.status.idle": "2021-08-19T18:29:33.620068Z",
     "shell.execute_reply": "2021-08-19T18:29:33.618331Z",
     "shell.execute_reply.started": "2021-08-19T18:29:24.921203Z"
    }
   },
   "outputs": [],
   "source": [
    "!pip install plotly numpy pandas matplotlib seaborn opendatasets xgboost graphviz lightgbm scikit-learn xgboost lightgbm --quiet"
   ]
  },
  {
   "cell_type": "code",
   "execution_count": 4,
   "metadata": {
    "execution": {
     "iopub.execute_input": "2021-08-19T18:29:33.627436Z",
     "iopub.status.busy": "2021-08-19T18:29:33.624761Z",
     "iopub.status.idle": "2021-08-19T18:29:33.638157Z",
     "shell.execute_reply": "2021-08-19T18:29:33.634496Z",
     "shell.execute_reply.started": "2021-08-19T18:29:33.627378Z"
    }
   },
   "outputs": [
    {
     "data": {
      "application/javascript": [
       "window.require && require([\"base/js/namespace\"],function(Jupyter){Jupyter.notebook.save_checkpoint()})"
      ],
      "text/plain": [
       "<IPython.core.display.Javascript object>"
      ]
     },
     "metadata": {},
     "output_type": "display_data"
    },
    {
     "name": "stdout",
     "output_type": "stream",
     "text": [
      "[jovian] Updating notebook \"jeetmia1/new-york-taxi-trip-duration-prediction\" on https://jovian.ai\u001b[0m\n",
      "[jovian] Committed successfully! https://jovian.ai/jeetmia1/new-york-taxi-trip-duration-prediction\u001b[0m\n"
     ]
    },
    {
     "data": {
      "text/plain": [
       "'https://jovian.ai/jeetmia1/new-york-taxi-trip-duration-prediction'"
      ]
     },
     "execution_count": 4,
     "metadata": {},
     "output_type": "execute_result"
    }
   ],
   "source": [
    "\n",
    "jovian.commit(project=\"machine-learning-course-project\")"
   ]
  },
  {
   "cell_type": "markdown",
   "metadata": {},
   "source": [
    "## Problem Statement:\n",
    "\n",
    "> The dataset is based on the [2016 NYC Yellow Cab trip record](https://cloud.google.com/bigquery/public-data) data made available in Big Query on Google Cloud Platform. The data was originally published by the [NYC Taxi and Limousine Commission (TLC)](https://www1.nyc.gov/site/tlc/about/tlc-trip-record-data.page). The data was sampled and cleaned for the purposes of this playground competition. Based on individual trip attributes, participants should predict the duration of each trip in the test set.\n",
    ">\n",
    ">\n",
    ">\n",
    "> You can find the data here: https://www.kaggle.com/c/nyc-taxi-trip-duration/data\n",
    "\n"
   ]
  },
  {
   "cell_type": "markdown",
   "metadata": {},
   "source": [
    "## Let's download the data first"
   ]
  },
  {
   "cell_type": "code",
   "execution_count": 5,
   "metadata": {
    "execution": {
     "iopub.execute_input": "2021-08-19T18:29:33.646156Z",
     "iopub.status.busy": "2021-08-19T18:29:33.644170Z",
     "iopub.status.idle": "2021-08-19T18:29:33.680403Z",
     "shell.execute_reply": "2021-08-19T18:29:33.678791Z",
     "shell.execute_reply.started": "2021-08-19T18:29:33.646089Z"
    }
   },
   "outputs": [],
   "source": [
    "import os\n",
    "import opendatasets as od\n",
    "import pandas as pd\n",
    "import numpy as np\n",
    "pd.set_option(\"display.max_columns\", 120)\n",
    "pd.set_option(\"display.max_rows\", 120)"
   ]
  },
  {
   "cell_type": "code",
   "execution_count": 6,
   "metadata": {
    "execution": {
     "iopub.execute_input": "2021-08-19T18:29:33.690762Z",
     "iopub.status.busy": "2021-08-19T18:29:33.686989Z",
     "iopub.status.idle": "2021-08-19T18:29:33.707278Z",
     "shell.execute_reply": "2021-08-19T18:29:33.704518Z",
     "shell.execute_reply.started": "2021-08-19T18:29:33.690689Z"
    }
   },
   "outputs": [
    {
     "name": "stdout",
     "output_type": "stream",
     "text": [
      "Please provide your Kaggle credentials to download this dataset. Learn more: http://bit.ly/kaggle-creds\n",
      "Your Kaggle username: jeetsingh72\n",
      "Your Kaggle Key: ········\n",
      "Downloading nyc-taxi-trip-duration.zip to ./nyc-taxi-trip-duration\n"
     ]
    },
    {
     "name": "stderr",
     "output_type": "stream",
     "text": [
      "100%|██████████| 85.8M/85.8M [00:02<00:00, 43.6MB/s]\n"
     ]
    },
    {
     "name": "stdout",
     "output_type": "stream",
     "text": [
      "\n",
      "Extracting archive ./nyc-taxi-trip-duration/nyc-taxi-trip-duration.zip to ./nyc-taxi-trip-duration\n"
     ]
    }
   ],
   "source": [
    "od.download('https://www.kaggle.com/c/nyc-taxi-trip-duration/data')"
   ]
  },
  {
   "cell_type": "markdown",
   "metadata": {},
   "source": [
    "List the files found in the downloaded folder"
   ]
  },
  {
   "cell_type": "code",
   "execution_count": 7,
   "metadata": {
    "execution": {
     "iopub.execute_input": "2021-08-19T18:29:33.715671Z",
     "iopub.status.busy": "2021-08-19T18:29:33.712554Z",
     "iopub.status.idle": "2021-08-19T18:29:33.735900Z",
     "shell.execute_reply": "2021-08-19T18:29:33.734350Z",
     "shell.execute_reply.started": "2021-08-19T18:29:33.715617Z"
    }
   },
   "outputs": [
    {
     "data": {
      "text/plain": [
       "['test.zip', 'train.zip', 'sample_submission.zip']"
      ]
     },
     "execution_count": 7,
     "metadata": {},
     "output_type": "execute_result"
    }
   ],
   "source": [
    "os.listdir('./nyc-taxi-trip-duration')"
   ]
  },
  {
   "cell_type": "markdown",
   "metadata": {},
   "source": [
    "Unzip the zip files containing the train and test set CSV files using `zipfile` function"
   ]
  },
  {
   "cell_type": "code",
   "execution_count": 8,
   "metadata": {
    "execution": {
     "iopub.execute_input": "2021-08-19T18:29:33.747428Z",
     "iopub.status.busy": "2021-08-19T18:29:33.745025Z",
     "iopub.status.idle": "2021-08-19T18:29:35.893949Z",
     "shell.execute_reply": "2021-08-19T18:29:35.892529Z",
     "shell.execute_reply.started": "2021-08-19T18:29:33.747369Z"
    }
   },
   "outputs": [
    {
     "data": {
      "text/plain": [
       "['train.csv']"
      ]
     },
     "execution_count": 8,
     "metadata": {},
     "output_type": "execute_result"
    }
   ],
   "source": [
    "import zipfile\n",
    "with zipfile.ZipFile('./nyc-taxi-trip-duration/train.zip', 'r') as zip_ref:\n",
    "    zip_ref.extractall('./nyc-taxi-trip-duration/train')\n",
    "os.listdir('./nyc-taxi-trip-duration/train')"
   ]
  },
  {
   "cell_type": "code",
   "execution_count": 9,
   "metadata": {
    "execution": {
     "iopub.execute_input": "2021-08-19T18:29:35.897011Z",
     "iopub.status.busy": "2021-08-19T18:29:35.896688Z",
     "iopub.status.idle": "2021-08-19T18:29:36.548269Z",
     "shell.execute_reply": "2021-08-19T18:29:36.546743Z",
     "shell.execute_reply.started": "2021-08-19T18:29:35.896963Z"
    }
   },
   "outputs": [
    {
     "data": {
      "text/plain": [
       "['test.csv']"
      ]
     },
     "execution_count": 9,
     "metadata": {},
     "output_type": "execute_result"
    }
   ],
   "source": [
    "with zipfile.ZipFile('./nyc-taxi-trip-duration/test.zip', 'r') as zip_ref:\n",
    "    zip_ref.extractall('./nyc-taxi-trip-duration/test')\n",
    "os.listdir('./nyc-taxi-trip-duration/test')"
   ]
  },
  {
   "cell_type": "code",
   "execution_count": 10,
   "metadata": {
    "execution": {
     "iopub.execute_input": "2021-08-19T18:29:36.553928Z",
     "iopub.status.busy": "2021-08-19T18:29:36.553578Z",
     "iopub.status.idle": "2021-08-19T18:29:41.899533Z",
     "shell.execute_reply": "2021-08-19T18:29:41.898283Z",
     "shell.execute_reply.started": "2021-08-19T18:29:36.553897Z"
    }
   },
   "outputs": [],
   "source": [
    "train_df=pd.read_csv('./nyc-taxi-trip-duration/train/train.csv')\n",
    "test_df=pd.read_csv('./nyc-taxi-trip-duration/test/test.csv')"
   ]
  },
  {
   "cell_type": "code",
   "execution_count": 11,
   "metadata": {
    "execution": {
     "iopub.execute_input": "2021-08-19T18:29:41.901922Z",
     "iopub.status.busy": "2021-08-19T18:29:41.901374Z",
     "iopub.status.idle": "2021-08-19T18:29:41.944945Z",
     "shell.execute_reply": "2021-08-19T18:29:41.943361Z",
     "shell.execute_reply.started": "2021-08-19T18:29:41.901875Z"
    }
   },
   "outputs": [
    {
     "data": {
      "text/html": [
       "<div>\n",
       "<style scoped>\n",
       "    .dataframe tbody tr th:only-of-type {\n",
       "        vertical-align: middle;\n",
       "    }\n",
       "\n",
       "    .dataframe tbody tr th {\n",
       "        vertical-align: top;\n",
       "    }\n",
       "\n",
       "    .dataframe thead th {\n",
       "        text-align: right;\n",
       "    }\n",
       "</style>\n",
       "<table border=\"1\" class=\"dataframe\">\n",
       "  <thead>\n",
       "    <tr style=\"text-align: right;\">\n",
       "      <th></th>\n",
       "      <th>id</th>\n",
       "      <th>vendor_id</th>\n",
       "      <th>pickup_datetime</th>\n",
       "      <th>dropoff_datetime</th>\n",
       "      <th>passenger_count</th>\n",
       "      <th>pickup_longitude</th>\n",
       "      <th>pickup_latitude</th>\n",
       "      <th>dropoff_longitude</th>\n",
       "      <th>dropoff_latitude</th>\n",
       "      <th>store_and_fwd_flag</th>\n",
       "      <th>trip_duration</th>\n",
       "    </tr>\n",
       "  </thead>\n",
       "  <tbody>\n",
       "    <tr>\n",
       "      <th>0</th>\n",
       "      <td>id2875421</td>\n",
       "      <td>2</td>\n",
       "      <td>2016-03-14 17:24:55</td>\n",
       "      <td>2016-03-14 17:32:30</td>\n",
       "      <td>1</td>\n",
       "      <td>-73.982155</td>\n",
       "      <td>40.767937</td>\n",
       "      <td>-73.964630</td>\n",
       "      <td>40.765602</td>\n",
       "      <td>N</td>\n",
       "      <td>455</td>\n",
       "    </tr>\n",
       "    <tr>\n",
       "      <th>1</th>\n",
       "      <td>id2377394</td>\n",
       "      <td>1</td>\n",
       "      <td>2016-06-12 00:43:35</td>\n",
       "      <td>2016-06-12 00:54:38</td>\n",
       "      <td>1</td>\n",
       "      <td>-73.980415</td>\n",
       "      <td>40.738564</td>\n",
       "      <td>-73.999481</td>\n",
       "      <td>40.731152</td>\n",
       "      <td>N</td>\n",
       "      <td>663</td>\n",
       "    </tr>\n",
       "    <tr>\n",
       "      <th>2</th>\n",
       "      <td>id3858529</td>\n",
       "      <td>2</td>\n",
       "      <td>2016-01-19 11:35:24</td>\n",
       "      <td>2016-01-19 12:10:48</td>\n",
       "      <td>1</td>\n",
       "      <td>-73.979027</td>\n",
       "      <td>40.763939</td>\n",
       "      <td>-74.005333</td>\n",
       "      <td>40.710087</td>\n",
       "      <td>N</td>\n",
       "      <td>2124</td>\n",
       "    </tr>\n",
       "    <tr>\n",
       "      <th>3</th>\n",
       "      <td>id3504673</td>\n",
       "      <td>2</td>\n",
       "      <td>2016-04-06 19:32:31</td>\n",
       "      <td>2016-04-06 19:39:40</td>\n",
       "      <td>1</td>\n",
       "      <td>-74.010040</td>\n",
       "      <td>40.719971</td>\n",
       "      <td>-74.012268</td>\n",
       "      <td>40.706718</td>\n",
       "      <td>N</td>\n",
       "      <td>429</td>\n",
       "    </tr>\n",
       "    <tr>\n",
       "      <th>4</th>\n",
       "      <td>id2181028</td>\n",
       "      <td>2</td>\n",
       "      <td>2016-03-26 13:30:55</td>\n",
       "      <td>2016-03-26 13:38:10</td>\n",
       "      <td>1</td>\n",
       "      <td>-73.973053</td>\n",
       "      <td>40.793209</td>\n",
       "      <td>-73.972923</td>\n",
       "      <td>40.782520</td>\n",
       "      <td>N</td>\n",
       "      <td>435</td>\n",
       "    </tr>\n",
       "    <tr>\n",
       "      <th>...</th>\n",
       "      <td>...</td>\n",
       "      <td>...</td>\n",
       "      <td>...</td>\n",
       "      <td>...</td>\n",
       "      <td>...</td>\n",
       "      <td>...</td>\n",
       "      <td>...</td>\n",
       "      <td>...</td>\n",
       "      <td>...</td>\n",
       "      <td>...</td>\n",
       "      <td>...</td>\n",
       "    </tr>\n",
       "    <tr>\n",
       "      <th>1458639</th>\n",
       "      <td>id2376096</td>\n",
       "      <td>2</td>\n",
       "      <td>2016-04-08 13:31:04</td>\n",
       "      <td>2016-04-08 13:44:02</td>\n",
       "      <td>4</td>\n",
       "      <td>-73.982201</td>\n",
       "      <td>40.745522</td>\n",
       "      <td>-73.994911</td>\n",
       "      <td>40.740170</td>\n",
       "      <td>N</td>\n",
       "      <td>778</td>\n",
       "    </tr>\n",
       "    <tr>\n",
       "      <th>1458640</th>\n",
       "      <td>id1049543</td>\n",
       "      <td>1</td>\n",
       "      <td>2016-01-10 07:35:15</td>\n",
       "      <td>2016-01-10 07:46:10</td>\n",
       "      <td>1</td>\n",
       "      <td>-74.000946</td>\n",
       "      <td>40.747379</td>\n",
       "      <td>-73.970184</td>\n",
       "      <td>40.796547</td>\n",
       "      <td>N</td>\n",
       "      <td>655</td>\n",
       "    </tr>\n",
       "    <tr>\n",
       "      <th>1458641</th>\n",
       "      <td>id2304944</td>\n",
       "      <td>2</td>\n",
       "      <td>2016-04-22 06:57:41</td>\n",
       "      <td>2016-04-22 07:10:25</td>\n",
       "      <td>1</td>\n",
       "      <td>-73.959129</td>\n",
       "      <td>40.768799</td>\n",
       "      <td>-74.004433</td>\n",
       "      <td>40.707371</td>\n",
       "      <td>N</td>\n",
       "      <td>764</td>\n",
       "    </tr>\n",
       "    <tr>\n",
       "      <th>1458642</th>\n",
       "      <td>id2714485</td>\n",
       "      <td>1</td>\n",
       "      <td>2016-01-05 15:56:26</td>\n",
       "      <td>2016-01-05 16:02:39</td>\n",
       "      <td>1</td>\n",
       "      <td>-73.982079</td>\n",
       "      <td>40.749062</td>\n",
       "      <td>-73.974632</td>\n",
       "      <td>40.757107</td>\n",
       "      <td>N</td>\n",
       "      <td>373</td>\n",
       "    </tr>\n",
       "    <tr>\n",
       "      <th>1458643</th>\n",
       "      <td>id1209952</td>\n",
       "      <td>1</td>\n",
       "      <td>2016-04-05 14:44:25</td>\n",
       "      <td>2016-04-05 14:47:43</td>\n",
       "      <td>1</td>\n",
       "      <td>-73.979538</td>\n",
       "      <td>40.781750</td>\n",
       "      <td>-73.972809</td>\n",
       "      <td>40.790585</td>\n",
       "      <td>N</td>\n",
       "      <td>198</td>\n",
       "    </tr>\n",
       "  </tbody>\n",
       "</table>\n",
       "<p>1458644 rows × 11 columns</p>\n",
       "</div>"
      ],
      "text/plain": [
       "                id  vendor_id      pickup_datetime     dropoff_datetime  \\\n",
       "0        id2875421          2  2016-03-14 17:24:55  2016-03-14 17:32:30   \n",
       "1        id2377394          1  2016-06-12 00:43:35  2016-06-12 00:54:38   \n",
       "2        id3858529          2  2016-01-19 11:35:24  2016-01-19 12:10:48   \n",
       "3        id3504673          2  2016-04-06 19:32:31  2016-04-06 19:39:40   \n",
       "4        id2181028          2  2016-03-26 13:30:55  2016-03-26 13:38:10   \n",
       "...            ...        ...                  ...                  ...   \n",
       "1458639  id2376096          2  2016-04-08 13:31:04  2016-04-08 13:44:02   \n",
       "1458640  id1049543          1  2016-01-10 07:35:15  2016-01-10 07:46:10   \n",
       "1458641  id2304944          2  2016-04-22 06:57:41  2016-04-22 07:10:25   \n",
       "1458642  id2714485          1  2016-01-05 15:56:26  2016-01-05 16:02:39   \n",
       "1458643  id1209952          1  2016-04-05 14:44:25  2016-04-05 14:47:43   \n",
       "\n",
       "         passenger_count  pickup_longitude  pickup_latitude  \\\n",
       "0                      1        -73.982155        40.767937   \n",
       "1                      1        -73.980415        40.738564   \n",
       "2                      1        -73.979027        40.763939   \n",
       "3                      1        -74.010040        40.719971   \n",
       "4                      1        -73.973053        40.793209   \n",
       "...                  ...               ...              ...   \n",
       "1458639                4        -73.982201        40.745522   \n",
       "1458640                1        -74.000946        40.747379   \n",
       "1458641                1        -73.959129        40.768799   \n",
       "1458642                1        -73.982079        40.749062   \n",
       "1458643                1        -73.979538        40.781750   \n",
       "\n",
       "         dropoff_longitude  dropoff_latitude store_and_fwd_flag  trip_duration  \n",
       "0               -73.964630         40.765602                  N            455  \n",
       "1               -73.999481         40.731152                  N            663  \n",
       "2               -74.005333         40.710087                  N           2124  \n",
       "3               -74.012268         40.706718                  N            429  \n",
       "4               -73.972923         40.782520                  N            435  \n",
       "...                    ...               ...                ...            ...  \n",
       "1458639         -73.994911         40.740170                  N            778  \n",
       "1458640         -73.970184         40.796547                  N            655  \n",
       "1458641         -74.004433         40.707371                  N            764  \n",
       "1458642         -73.974632         40.757107                  N            373  \n",
       "1458643         -73.972809         40.790585                  N            198  \n",
       "\n",
       "[1458644 rows x 11 columns]"
      ]
     },
     "execution_count": 11,
     "metadata": {},
     "output_type": "execute_result"
    }
   ],
   "source": [
    "train_df"
   ]
  },
  {
   "cell_type": "code",
   "execution_count": 12,
   "metadata": {
    "execution": {
     "iopub.execute_input": "2021-08-19T18:29:41.947587Z",
     "iopub.status.busy": "2021-08-19T18:29:41.947069Z",
     "iopub.status.idle": "2021-08-19T18:29:41.978979Z",
     "shell.execute_reply": "2021-08-19T18:29:41.977628Z",
     "shell.execute_reply.started": "2021-08-19T18:29:41.947537Z"
    }
   },
   "outputs": [
    {
     "data": {
      "text/html": [
       "<div>\n",
       "<style scoped>\n",
       "    .dataframe tbody tr th:only-of-type {\n",
       "        vertical-align: middle;\n",
       "    }\n",
       "\n",
       "    .dataframe tbody tr th {\n",
       "        vertical-align: top;\n",
       "    }\n",
       "\n",
       "    .dataframe thead th {\n",
       "        text-align: right;\n",
       "    }\n",
       "</style>\n",
       "<table border=\"1\" class=\"dataframe\">\n",
       "  <thead>\n",
       "    <tr style=\"text-align: right;\">\n",
       "      <th></th>\n",
       "      <th>id</th>\n",
       "      <th>vendor_id</th>\n",
       "      <th>pickup_datetime</th>\n",
       "      <th>passenger_count</th>\n",
       "      <th>pickup_longitude</th>\n",
       "      <th>pickup_latitude</th>\n",
       "      <th>dropoff_longitude</th>\n",
       "      <th>dropoff_latitude</th>\n",
       "      <th>store_and_fwd_flag</th>\n",
       "    </tr>\n",
       "  </thead>\n",
       "  <tbody>\n",
       "    <tr>\n",
       "      <th>0</th>\n",
       "      <td>id3004672</td>\n",
       "      <td>1</td>\n",
       "      <td>2016-06-30 23:59:58</td>\n",
       "      <td>1</td>\n",
       "      <td>-73.988129</td>\n",
       "      <td>40.732029</td>\n",
       "      <td>-73.990173</td>\n",
       "      <td>40.756680</td>\n",
       "      <td>N</td>\n",
       "    </tr>\n",
       "    <tr>\n",
       "      <th>1</th>\n",
       "      <td>id3505355</td>\n",
       "      <td>1</td>\n",
       "      <td>2016-06-30 23:59:53</td>\n",
       "      <td>1</td>\n",
       "      <td>-73.964203</td>\n",
       "      <td>40.679993</td>\n",
       "      <td>-73.959808</td>\n",
       "      <td>40.655403</td>\n",
       "      <td>N</td>\n",
       "    </tr>\n",
       "    <tr>\n",
       "      <th>2</th>\n",
       "      <td>id1217141</td>\n",
       "      <td>1</td>\n",
       "      <td>2016-06-30 23:59:47</td>\n",
       "      <td>1</td>\n",
       "      <td>-73.997437</td>\n",
       "      <td>40.737583</td>\n",
       "      <td>-73.986160</td>\n",
       "      <td>40.729523</td>\n",
       "      <td>N</td>\n",
       "    </tr>\n",
       "    <tr>\n",
       "      <th>3</th>\n",
       "      <td>id2150126</td>\n",
       "      <td>2</td>\n",
       "      <td>2016-06-30 23:59:41</td>\n",
       "      <td>1</td>\n",
       "      <td>-73.956070</td>\n",
       "      <td>40.771900</td>\n",
       "      <td>-73.986427</td>\n",
       "      <td>40.730469</td>\n",
       "      <td>N</td>\n",
       "    </tr>\n",
       "    <tr>\n",
       "      <th>4</th>\n",
       "      <td>id1598245</td>\n",
       "      <td>1</td>\n",
       "      <td>2016-06-30 23:59:33</td>\n",
       "      <td>1</td>\n",
       "      <td>-73.970215</td>\n",
       "      <td>40.761475</td>\n",
       "      <td>-73.961510</td>\n",
       "      <td>40.755890</td>\n",
       "      <td>N</td>\n",
       "    </tr>\n",
       "    <tr>\n",
       "      <th>...</th>\n",
       "      <td>...</td>\n",
       "      <td>...</td>\n",
       "      <td>...</td>\n",
       "      <td>...</td>\n",
       "      <td>...</td>\n",
       "      <td>...</td>\n",
       "      <td>...</td>\n",
       "      <td>...</td>\n",
       "      <td>...</td>\n",
       "    </tr>\n",
       "    <tr>\n",
       "      <th>625129</th>\n",
       "      <td>id3008929</td>\n",
       "      <td>1</td>\n",
       "      <td>2016-01-01 00:02:52</td>\n",
       "      <td>1</td>\n",
       "      <td>-74.003464</td>\n",
       "      <td>40.725105</td>\n",
       "      <td>-74.001251</td>\n",
       "      <td>40.733643</td>\n",
       "      <td>N</td>\n",
       "    </tr>\n",
       "    <tr>\n",
       "      <th>625130</th>\n",
       "      <td>id3700764</td>\n",
       "      <td>1</td>\n",
       "      <td>2016-01-01 00:01:52</td>\n",
       "      <td>1</td>\n",
       "      <td>-74.006363</td>\n",
       "      <td>40.743782</td>\n",
       "      <td>-73.953407</td>\n",
       "      <td>40.782467</td>\n",
       "      <td>N</td>\n",
       "    </tr>\n",
       "    <tr>\n",
       "      <th>625131</th>\n",
       "      <td>id2568735</td>\n",
       "      <td>1</td>\n",
       "      <td>2016-01-01 00:01:24</td>\n",
       "      <td>2</td>\n",
       "      <td>-73.972267</td>\n",
       "      <td>40.759865</td>\n",
       "      <td>-73.876602</td>\n",
       "      <td>40.748665</td>\n",
       "      <td>N</td>\n",
       "    </tr>\n",
       "    <tr>\n",
       "      <th>625132</th>\n",
       "      <td>id1384355</td>\n",
       "      <td>1</td>\n",
       "      <td>2016-01-01 00:00:28</td>\n",
       "      <td>1</td>\n",
       "      <td>-73.976501</td>\n",
       "      <td>40.733562</td>\n",
       "      <td>-73.854263</td>\n",
       "      <td>40.891788</td>\n",
       "      <td>N</td>\n",
       "    </tr>\n",
       "    <tr>\n",
       "      <th>625133</th>\n",
       "      <td>id0621643</td>\n",
       "      <td>2</td>\n",
       "      <td>2016-01-01 00:00:22</td>\n",
       "      <td>2</td>\n",
       "      <td>-73.981850</td>\n",
       "      <td>40.716881</td>\n",
       "      <td>-73.969330</td>\n",
       "      <td>40.769379</td>\n",
       "      <td>N</td>\n",
       "    </tr>\n",
       "  </tbody>\n",
       "</table>\n",
       "<p>625134 rows × 9 columns</p>\n",
       "</div>"
      ],
      "text/plain": [
       "               id  vendor_id      pickup_datetime  passenger_count  \\\n",
       "0       id3004672          1  2016-06-30 23:59:58                1   \n",
       "1       id3505355          1  2016-06-30 23:59:53                1   \n",
       "2       id1217141          1  2016-06-30 23:59:47                1   \n",
       "3       id2150126          2  2016-06-30 23:59:41                1   \n",
       "4       id1598245          1  2016-06-30 23:59:33                1   \n",
       "...           ...        ...                  ...              ...   \n",
       "625129  id3008929          1  2016-01-01 00:02:52                1   \n",
       "625130  id3700764          1  2016-01-01 00:01:52                1   \n",
       "625131  id2568735          1  2016-01-01 00:01:24                2   \n",
       "625132  id1384355          1  2016-01-01 00:00:28                1   \n",
       "625133  id0621643          2  2016-01-01 00:00:22                2   \n",
       "\n",
       "        pickup_longitude  pickup_latitude  dropoff_longitude  \\\n",
       "0             -73.988129        40.732029         -73.990173   \n",
       "1             -73.964203        40.679993         -73.959808   \n",
       "2             -73.997437        40.737583         -73.986160   \n",
       "3             -73.956070        40.771900         -73.986427   \n",
       "4             -73.970215        40.761475         -73.961510   \n",
       "...                  ...              ...                ...   \n",
       "625129        -74.003464        40.725105         -74.001251   \n",
       "625130        -74.006363        40.743782         -73.953407   \n",
       "625131        -73.972267        40.759865         -73.876602   \n",
       "625132        -73.976501        40.733562         -73.854263   \n",
       "625133        -73.981850        40.716881         -73.969330   \n",
       "\n",
       "        dropoff_latitude store_and_fwd_flag  \n",
       "0              40.756680                  N  \n",
       "1              40.655403                  N  \n",
       "2              40.729523                  N  \n",
       "3              40.730469                  N  \n",
       "4              40.755890                  N  \n",
       "...                  ...                ...  \n",
       "625129         40.733643                  N  \n",
       "625130         40.782467                  N  \n",
       "625131         40.748665                  N  \n",
       "625132         40.891788                  N  \n",
       "625133         40.769379                  N  \n",
       "\n",
       "[625134 rows x 9 columns]"
      ]
     },
     "execution_count": 12,
     "metadata": {},
     "output_type": "execute_result"
    }
   ],
   "source": [
    "test_df"
   ]
  },
  {
   "cell_type": "code",
   "execution_count": 13,
   "metadata": {
    "execution": {
     "iopub.execute_input": "2021-08-19T18:29:41.982032Z",
     "iopub.status.busy": "2021-08-19T18:29:41.981133Z",
     "iopub.status.idle": "2021-08-19T18:29:41.992606Z",
     "shell.execute_reply": "2021-08-19T18:29:41.990929Z",
     "shell.execute_reply.started": "2021-08-19T18:29:41.981966Z"
    }
   },
   "outputs": [
    {
     "data": {
      "text/plain": [
       "(1458644, 11)"
      ]
     },
     "execution_count": 13,
     "metadata": {},
     "output_type": "execute_result"
    }
   ],
   "source": [
    "train_df.shape"
   ]
  },
  {
   "cell_type": "code",
   "execution_count": 14,
   "metadata": {
    "execution": {
     "iopub.execute_input": "2021-08-19T18:29:41.995902Z",
     "iopub.status.busy": "2021-08-19T18:29:41.995335Z",
     "iopub.status.idle": "2021-08-19T18:29:42.006047Z",
     "shell.execute_reply": "2021-08-19T18:29:42.004102Z",
     "shell.execute_reply.started": "2021-08-19T18:29:41.995853Z"
    },
    "scrolled": true
   },
   "outputs": [
    {
     "data": {
      "text/plain": [
       "(625134, 9)"
      ]
     },
     "execution_count": 14,
     "metadata": {},
     "output_type": "execute_result"
    }
   ],
   "source": [
    "test_df.shape"
   ]
  },
  {
   "cell_type": "code",
   "execution_count": 15,
   "metadata": {
    "execution": {
     "iopub.execute_input": "2021-08-19T18:29:57.758428Z",
     "iopub.status.busy": "2021-08-19T18:29:57.758060Z",
     "iopub.status.idle": "2021-08-19T18:29:57.820272Z",
     "shell.execute_reply": "2021-08-19T18:29:57.819042Z",
     "shell.execute_reply.started": "2021-08-19T18:29:57.758396Z"
    }
   },
   "outputs": [],
   "source": [
    "# convert pickup dateime and dropoff datetime into date-time object\n",
    "train_df['pickup_datetime'] = pd.to_datetime(train_df['pickup_datetime'], format='%Y-%m-%d %H:%M:%S')\n",
    "train_df['dropoff_datetime']=pd.to_datetime(train_df['dropoff_datetime'],format='%Y-%m-%d %H:%M:%S')\n",
    "\n",
    "test_df['pickup_datetime'] = pd.to_datetime(test_df['pickup_datetime'], format='%Y-%m-%d %H:%M:%S')\n"
   ]
  },
  {
   "cell_type": "code",
   "execution_count": 16,
   "metadata": {
    "execution": {
     "iopub.execute_input": "2021-08-19T18:29:57.822750Z",
     "iopub.status.busy": "2021-08-19T18:29:57.822282Z",
     "iopub.status.idle": "2021-08-19T18:29:57.832072Z",
     "shell.execute_reply": "2021-08-19T18:29:57.830180Z",
     "shell.execute_reply.started": "2021-08-19T18:29:57.822706Z"
    }
   },
   "outputs": [
    {
     "data": {
      "text/plain": [
       "Index(['id', 'vendor_id', 'pickup_datetime', 'dropoff_datetime',\n",
       "       'passenger_count', 'pickup_longitude', 'pickup_latitude',\n",
       "       'dropoff_longitude', 'dropoff_latitude', 'store_and_fwd_flag',\n",
       "       'trip_duration'],\n",
       "      dtype='object')"
      ]
     },
     "execution_count": 16,
     "metadata": {},
     "output_type": "execute_result"
    }
   ],
   "source": [
    "train_df.columns"
   ]
  },
  {
   "cell_type": "code",
   "execution_count": 17,
   "metadata": {
    "execution": {
     "iopub.execute_input": "2021-08-19T18:29:57.836258Z",
     "iopub.status.busy": "2021-08-19T18:29:57.835370Z",
     "iopub.status.idle": "2021-08-19T18:29:57.845376Z",
     "shell.execute_reply": "2021-08-19T18:29:57.843725Z",
     "shell.execute_reply.started": "2021-08-19T18:29:57.836215Z"
    }
   },
   "outputs": [
    {
     "data": {
      "text/plain": [
       "Index(['id', 'vendor_id', 'pickup_datetime', 'passenger_count',\n",
       "       'pickup_longitude', 'pickup_latitude', 'dropoff_longitude',\n",
       "       'dropoff_latitude', 'store_and_fwd_flag'],\n",
       "      dtype='object')"
      ]
     },
     "execution_count": 17,
     "metadata": {},
     "output_type": "execute_result"
    }
   ],
   "source": [
    "test_df.columns"
   ]
  },
  {
   "cell_type": "code",
   "execution_count": 18,
   "metadata": {
    "execution": {
     "iopub.execute_input": "2021-08-19T18:29:57.849050Z",
     "iopub.status.busy": "2021-08-19T18:29:57.848231Z",
     "iopub.status.idle": "2021-08-19T18:29:58.200331Z",
     "shell.execute_reply": "2021-08-19T18:29:58.198987Z",
     "shell.execute_reply.started": "2021-08-19T18:29:57.848988Z"
    }
   },
   "outputs": [
    {
     "data": {
      "text/html": [
       "<div>\n",
       "<style scoped>\n",
       "    .dataframe tbody tr th:only-of-type {\n",
       "        vertical-align: middle;\n",
       "    }\n",
       "\n",
       "    .dataframe tbody tr th {\n",
       "        vertical-align: top;\n",
       "    }\n",
       "\n",
       "    .dataframe thead th {\n",
       "        text-align: right;\n",
       "    }\n",
       "</style>\n",
       "<table border=\"1\" class=\"dataframe\">\n",
       "  <thead>\n",
       "    <tr style=\"text-align: right;\">\n",
       "      <th></th>\n",
       "      <th>vendor_id</th>\n",
       "      <th>passenger_count</th>\n",
       "      <th>pickup_longitude</th>\n",
       "      <th>pickup_latitude</th>\n",
       "      <th>dropoff_longitude</th>\n",
       "      <th>dropoff_latitude</th>\n",
       "      <th>trip_duration</th>\n",
       "    </tr>\n",
       "  </thead>\n",
       "  <tbody>\n",
       "    <tr>\n",
       "      <th>count</th>\n",
       "      <td>1.458644e+06</td>\n",
       "      <td>1.458644e+06</td>\n",
       "      <td>1.458644e+06</td>\n",
       "      <td>1.458644e+06</td>\n",
       "      <td>1.458644e+06</td>\n",
       "      <td>1.458644e+06</td>\n",
       "      <td>1.458644e+06</td>\n",
       "    </tr>\n",
       "    <tr>\n",
       "      <th>mean</th>\n",
       "      <td>1.534950e+00</td>\n",
       "      <td>1.664530e+00</td>\n",
       "      <td>-7.397349e+01</td>\n",
       "      <td>4.075092e+01</td>\n",
       "      <td>-7.397342e+01</td>\n",
       "      <td>4.075180e+01</td>\n",
       "      <td>9.594923e+02</td>\n",
       "    </tr>\n",
       "    <tr>\n",
       "      <th>std</th>\n",
       "      <td>4.987772e-01</td>\n",
       "      <td>1.314242e+00</td>\n",
       "      <td>7.090186e-02</td>\n",
       "      <td>3.288119e-02</td>\n",
       "      <td>7.064327e-02</td>\n",
       "      <td>3.589056e-02</td>\n",
       "      <td>5.237432e+03</td>\n",
       "    </tr>\n",
       "    <tr>\n",
       "      <th>min</th>\n",
       "      <td>1.000000e+00</td>\n",
       "      <td>0.000000e+00</td>\n",
       "      <td>-1.219333e+02</td>\n",
       "      <td>3.435970e+01</td>\n",
       "      <td>-1.219333e+02</td>\n",
       "      <td>3.218114e+01</td>\n",
       "      <td>1.000000e+00</td>\n",
       "    </tr>\n",
       "    <tr>\n",
       "      <th>25%</th>\n",
       "      <td>1.000000e+00</td>\n",
       "      <td>1.000000e+00</td>\n",
       "      <td>-7.399187e+01</td>\n",
       "      <td>4.073735e+01</td>\n",
       "      <td>-7.399133e+01</td>\n",
       "      <td>4.073588e+01</td>\n",
       "      <td>3.970000e+02</td>\n",
       "    </tr>\n",
       "    <tr>\n",
       "      <th>50%</th>\n",
       "      <td>2.000000e+00</td>\n",
       "      <td>1.000000e+00</td>\n",
       "      <td>-7.398174e+01</td>\n",
       "      <td>4.075410e+01</td>\n",
       "      <td>-7.397975e+01</td>\n",
       "      <td>4.075452e+01</td>\n",
       "      <td>6.620000e+02</td>\n",
       "    </tr>\n",
       "    <tr>\n",
       "      <th>75%</th>\n",
       "      <td>2.000000e+00</td>\n",
       "      <td>2.000000e+00</td>\n",
       "      <td>-7.396733e+01</td>\n",
       "      <td>4.076836e+01</td>\n",
       "      <td>-7.396301e+01</td>\n",
       "      <td>4.076981e+01</td>\n",
       "      <td>1.075000e+03</td>\n",
       "    </tr>\n",
       "    <tr>\n",
       "      <th>max</th>\n",
       "      <td>2.000000e+00</td>\n",
       "      <td>9.000000e+00</td>\n",
       "      <td>-6.133553e+01</td>\n",
       "      <td>5.188108e+01</td>\n",
       "      <td>-6.133553e+01</td>\n",
       "      <td>4.392103e+01</td>\n",
       "      <td>3.526282e+06</td>\n",
       "    </tr>\n",
       "  </tbody>\n",
       "</table>\n",
       "</div>"
      ],
      "text/plain": [
       "          vendor_id  passenger_count  pickup_longitude  pickup_latitude  \\\n",
       "count  1.458644e+06     1.458644e+06      1.458644e+06     1.458644e+06   \n",
       "mean   1.534950e+00     1.664530e+00     -7.397349e+01     4.075092e+01   \n",
       "std    4.987772e-01     1.314242e+00      7.090186e-02     3.288119e-02   \n",
       "min    1.000000e+00     0.000000e+00     -1.219333e+02     3.435970e+01   \n",
       "25%    1.000000e+00     1.000000e+00     -7.399187e+01     4.073735e+01   \n",
       "50%    2.000000e+00     1.000000e+00     -7.398174e+01     4.075410e+01   \n",
       "75%    2.000000e+00     2.000000e+00     -7.396733e+01     4.076836e+01   \n",
       "max    2.000000e+00     9.000000e+00     -6.133553e+01     5.188108e+01   \n",
       "\n",
       "       dropoff_longitude  dropoff_latitude  trip_duration  \n",
       "count       1.458644e+06      1.458644e+06   1.458644e+06  \n",
       "mean       -7.397342e+01      4.075180e+01   9.594923e+02  \n",
       "std         7.064327e-02      3.589056e-02   5.237432e+03  \n",
       "min        -1.219333e+02      3.218114e+01   1.000000e+00  \n",
       "25%        -7.399133e+01      4.073588e+01   3.970000e+02  \n",
       "50%        -7.397975e+01      4.075452e+01   6.620000e+02  \n",
       "75%        -7.396301e+01      4.076981e+01   1.075000e+03  \n",
       "max        -6.133553e+01      4.392103e+01   3.526282e+06  "
      ]
     },
     "execution_count": 18,
     "metadata": {},
     "output_type": "execute_result"
    }
   ],
   "source": [
    "train_df.describe()"
   ]
  },
  {
   "cell_type": "code",
   "execution_count": 19,
   "metadata": {
    "execution": {
     "iopub.execute_input": "2021-08-19T18:29:58.202892Z",
     "iopub.status.busy": "2021-08-19T18:29:58.202355Z",
     "iopub.status.idle": "2021-08-19T18:29:58.324380Z",
     "shell.execute_reply": "2021-08-19T18:29:58.323225Z",
     "shell.execute_reply.started": "2021-08-19T18:29:58.202830Z"
    }
   },
   "outputs": [],
   "source": [
    "train_df=train_df[train_df.trip_duration<100000]"
   ]
  },
  {
   "cell_type": "code",
   "execution_count": 20,
   "metadata": {
    "execution": {
     "iopub.execute_input": "2021-08-19T18:29:58.326914Z",
     "iopub.status.busy": "2021-08-19T18:29:58.326149Z",
     "iopub.status.idle": "2021-08-19T18:29:58.607969Z",
     "shell.execute_reply": "2021-08-19T18:29:58.606643Z",
     "shell.execute_reply.started": "2021-08-19T18:29:58.326855Z"
    }
   },
   "outputs": [
    {
     "name": "stdout",
     "output_type": "stream",
     "text": [
      "<class 'pandas.core.frame.DataFrame'>\n",
      "Int64Index: 1458640 entries, 0 to 1458643\n",
      "Data columns (total 11 columns):\n",
      " #   Column              Non-Null Count    Dtype         \n",
      "---  ------              --------------    -----         \n",
      " 0   id                  1458640 non-null  object        \n",
      " 1   vendor_id           1458640 non-null  int64         \n",
      " 2   pickup_datetime     1458640 non-null  datetime64[ns]\n",
      " 3   dropoff_datetime    1458640 non-null  datetime64[ns]\n",
      " 4   passenger_count     1458640 non-null  int64         \n",
      " 5   pickup_longitude    1458640 non-null  float64       \n",
      " 6   pickup_latitude     1458640 non-null  float64       \n",
      " 7   dropoff_longitude   1458640 non-null  float64       \n",
      " 8   dropoff_latitude    1458640 non-null  float64       \n",
      " 9   store_and_fwd_flag  1458640 non-null  object        \n",
      " 10  trip_duration       1458640 non-null  int64         \n",
      "dtypes: datetime64[ns](2), float64(4), int64(3), object(2)\n",
      "memory usage: 133.5+ MB\n"
     ]
    }
   ],
   "source": [
    "train_df.info()"
   ]
  },
  {
   "cell_type": "code",
   "execution_count": 21,
   "metadata": {
    "execution": {
     "iopub.execute_input": "2021-08-19T18:29:58.610216Z",
     "iopub.status.busy": "2021-08-19T18:29:58.609663Z",
     "iopub.status.idle": "2021-08-19T18:29:58.616176Z",
     "shell.execute_reply": "2021-08-19T18:29:58.614475Z",
     "shell.execute_reply.started": "2021-08-19T18:29:58.610169Z"
    },
    "scrolled": true
   },
   "outputs": [],
   "source": [
    "#jovian.commit()"
   ]
  },
  {
   "cell_type": "markdown",
   "metadata": {},
   "source": [
    "## Preprocessing the data\n"
   ]
  },
  {
   "cell_type": "markdown",
   "metadata": {},
   "source": [
    "\n",
    "### Date\n",
    "\n"
   ]
  },
  {
   "cell_type": "code",
   "execution_count": 22,
   "metadata": {
    "execution": {
     "iopub.execute_input": "2021-08-19T18:29:58.622073Z",
     "iopub.status.busy": "2021-08-19T18:29:58.621419Z",
     "iopub.status.idle": "2021-08-19T18:29:59.602966Z",
     "shell.execute_reply": "2021-08-19T18:29:59.601580Z",
     "shell.execute_reply.started": "2021-08-19T18:29:58.622027Z"
    }
   },
   "outputs": [
    {
     "name": "stderr",
     "output_type": "stream",
     "text": [
      "/tmp/ipykernel_109/574756667.py:1: SettingWithCopyWarning: \n",
      "A value is trying to be set on a copy of a slice from a DataFrame.\n",
      "Try using .loc[row_indexer,col_indexer] = value instead\n",
      "\n",
      "See the caveats in the documentation: https://pandas.pydata.org/pandas-docs/stable/user_guide/indexing.html#returning-a-view-versus-a-copy\n",
      "  train_df['pickup_year'] = train_df.pickup_datetime.dt.year\n",
      "/tmp/ipykernel_109/574756667.py:2: SettingWithCopyWarning: \n",
      "A value is trying to be set on a copy of a slice from a DataFrame.\n",
      "Try using .loc[row_indexer,col_indexer] = value instead\n",
      "\n",
      "See the caveats in the documentation: https://pandas.pydata.org/pandas-docs/stable/user_guide/indexing.html#returning-a-view-versus-a-copy\n",
      "  train_df['pickup_month'] = train_df.pickup_datetime.dt.month\n",
      "/tmp/ipykernel_109/574756667.py:3: SettingWithCopyWarning: \n",
      "A value is trying to be set on a copy of a slice from a DataFrame.\n",
      "Try using .loc[row_indexer,col_indexer] = value instead\n",
      "\n",
      "See the caveats in the documentation: https://pandas.pydata.org/pandas-docs/stable/user_guide/indexing.html#returning-a-view-versus-a-copy\n",
      "  train_df['pickup_day'] = train_df.pickup_datetime.dt.day\n",
      "/tmp/ipykernel_109/574756667.py:4: SettingWithCopyWarning: \n",
      "A value is trying to be set on a copy of a slice from a DataFrame.\n",
      "Try using .loc[row_indexer,col_indexer] = value instead\n",
      "\n",
      "See the caveats in the documentation: https://pandas.pydata.org/pandas-docs/stable/user_guide/indexing.html#returning-a-view-versus-a-copy\n",
      "  train_df['pickup_hour'] = train_df.pickup_datetime.dt.hour\n",
      "/tmp/ipykernel_109/574756667.py:5: SettingWithCopyWarning: \n",
      "A value is trying to be set on a copy of a slice from a DataFrame.\n",
      "Try using .loc[row_indexer,col_indexer] = value instead\n",
      "\n",
      "See the caveats in the documentation: https://pandas.pydata.org/pandas-docs/stable/user_guide/indexing.html#returning-a-view-versus-a-copy\n",
      "  train_df['pickup_minute'] = train_df.pickup_datetime.dt.minute\n",
      "/tmp/ipykernel_109/574756667.py:6: SettingWithCopyWarning: \n",
      "A value is trying to be set on a copy of a slice from a DataFrame.\n",
      "Try using .loc[row_indexer,col_indexer] = value instead\n",
      "\n",
      "See the caveats in the documentation: https://pandas.pydata.org/pandas-docs/stable/user_guide/indexing.html#returning-a-view-versus-a-copy\n",
      "  train_df['pickup_dayofweek'] = train_df.pickup_datetime.dt.isocalendar().day\n"
     ]
    }
   ],
   "source": [
    "train_df['pickup_year'] = train_df.pickup_datetime.dt.year\n",
    "train_df['pickup_month'] = train_df.pickup_datetime.dt.month\n",
    "train_df['pickup_day'] = train_df.pickup_datetime.dt.day\n",
    "train_df['pickup_hour'] = train_df.pickup_datetime.dt.hour\n",
    "train_df['pickup_minute'] = train_df.pickup_datetime.dt.minute\n",
    "train_df['pickup_dayofweek'] = train_df.pickup_datetime.dt.isocalendar().day"
   ]
  },
  {
   "cell_type": "code",
   "execution_count": 23,
   "metadata": {
    "execution": {
     "iopub.execute_input": "2021-08-19T18:29:59.606369Z",
     "iopub.status.busy": "2021-08-19T18:29:59.605673Z",
     "iopub.status.idle": "2021-08-19T18:29:59.965486Z",
     "shell.execute_reply": "2021-08-19T18:29:59.964182Z",
     "shell.execute_reply.started": "2021-08-19T18:29:59.606326Z"
    }
   },
   "outputs": [],
   "source": [
    "test_df['pickup_year'] = test_df.pickup_datetime.dt.year\n",
    "test_df['pickup_month'] = test_df.pickup_datetime.dt.month\n",
    "test_df['pickup_day'] = test_df.pickup_datetime.dt.day\n",
    "test_df['pickup_hour'] = test_df.pickup_datetime.dt.hour\n",
    "test_df['pickup_minute'] = test_df.pickup_datetime.dt.minute\n",
    "test_df['pickup_dayofweek'] = test_df.pickup_datetime.dt.isocalendar().day"
   ]
  },
  {
   "cell_type": "code",
   "execution_count": 24,
   "metadata": {
    "execution": {
     "iopub.execute_input": "2021-08-19T18:29:59.967595Z",
     "iopub.status.busy": "2021-08-19T18:29:59.967170Z",
     "iopub.status.idle": "2021-08-19T18:30:00.961935Z",
     "shell.execute_reply": "2021-08-19T18:30:00.960430Z",
     "shell.execute_reply.started": "2021-08-19T18:29:59.967553Z"
    }
   },
   "outputs": [
    {
     "name": "stderr",
     "output_type": "stream",
     "text": [
      "/tmp/ipykernel_109/3146465282.py:1: SettingWithCopyWarning: \n",
      "A value is trying to be set on a copy of a slice from a DataFrame.\n",
      "Try using .loc[row_indexer,col_indexer] = value instead\n",
      "\n",
      "See the caveats in the documentation: https://pandas.pydata.org/pandas-docs/stable/user_guide/indexing.html#returning-a-view-versus-a-copy\n",
      "  train_df['dropoff_year'] = train_df.dropoff_datetime.dt.year\n",
      "/tmp/ipykernel_109/3146465282.py:2: SettingWithCopyWarning: \n",
      "A value is trying to be set on a copy of a slice from a DataFrame.\n",
      "Try using .loc[row_indexer,col_indexer] = value instead\n",
      "\n",
      "See the caveats in the documentation: https://pandas.pydata.org/pandas-docs/stable/user_guide/indexing.html#returning-a-view-versus-a-copy\n",
      "  train_df['dropoff_month'] = train_df.dropoff_datetime.dt.month\n",
      "/tmp/ipykernel_109/3146465282.py:3: SettingWithCopyWarning: \n",
      "A value is trying to be set on a copy of a slice from a DataFrame.\n",
      "Try using .loc[row_indexer,col_indexer] = value instead\n",
      "\n",
      "See the caveats in the documentation: https://pandas.pydata.org/pandas-docs/stable/user_guide/indexing.html#returning-a-view-versus-a-copy\n",
      "  train_df['dropoff_day'] = train_df.dropoff_datetime.dt.day\n",
      "/tmp/ipykernel_109/3146465282.py:4: SettingWithCopyWarning: \n",
      "A value is trying to be set on a copy of a slice from a DataFrame.\n",
      "Try using .loc[row_indexer,col_indexer] = value instead\n",
      "\n",
      "See the caveats in the documentation: https://pandas.pydata.org/pandas-docs/stable/user_guide/indexing.html#returning-a-view-versus-a-copy\n",
      "  train_df['dropoff_hour'] = train_df.dropoff_datetime.dt.hour\n",
      "/tmp/ipykernel_109/3146465282.py:5: SettingWithCopyWarning: \n",
      "A value is trying to be set on a copy of a slice from a DataFrame.\n",
      "Try using .loc[row_indexer,col_indexer] = value instead\n",
      "\n",
      "See the caveats in the documentation: https://pandas.pydata.org/pandas-docs/stable/user_guide/indexing.html#returning-a-view-versus-a-copy\n",
      "  train_df['dropoff_minute'] = train_df.dropoff_datetime.dt.minute\n",
      "/tmp/ipykernel_109/3146465282.py:6: SettingWithCopyWarning: \n",
      "A value is trying to be set on a copy of a slice from a DataFrame.\n",
      "Try using .loc[row_indexer,col_indexer] = value instead\n",
      "\n",
      "See the caveats in the documentation: https://pandas.pydata.org/pandas-docs/stable/user_guide/indexing.html#returning-a-view-versus-a-copy\n",
      "  train_df['dropoff_dayofweek'] = train_df.dropoff_datetime.dt.isocalendar().day\n"
     ]
    }
   ],
   "source": [
    "train_df['dropoff_year'] = train_df.dropoff_datetime.dt.year\n",
    "train_df['dropoff_month'] = train_df.dropoff_datetime.dt.month\n",
    "train_df['dropoff_day'] = train_df.dropoff_datetime.dt.day\n",
    "train_df['dropoff_hour'] = train_df.dropoff_datetime.dt.hour\n",
    "train_df['dropoff_minute'] = train_df.dropoff_datetime.dt.minute\n",
    "train_df['dropoff_dayofweek'] = train_df.dropoff_datetime.dt.isocalendar().day"
   ]
  },
  {
   "cell_type": "markdown",
   "metadata": {},
   "source": [
    "## Visualization of Data"
   ]
  },
  {
   "cell_type": "code",
   "execution_count": 25,
   "metadata": {
    "execution": {
     "iopub.execute_input": "2021-08-19T18:30:00.964448Z",
     "iopub.status.busy": "2021-08-19T18:30:00.963950Z",
     "iopub.status.idle": "2021-08-19T18:30:02.931639Z",
     "shell.execute_reply": "2021-08-19T18:30:02.930370Z",
     "shell.execute_reply.started": "2021-08-19T18:30:00.964396Z"
    }
   },
   "outputs": [],
   "source": [
    "import plotly.express as px\n",
    "import matplotlib\n",
    "import matplotlib.pyplot as plt\n",
    "import seaborn as sns\n",
    "%matplotlib inline\n",
    "\n",
    "sns.set_style('darkgrid')\n",
    "matplotlib.rcParams['font.size'] = 14\n",
    "matplotlib.rcParams['figure.figsize'] = (10, 6)\n",
    "matplotlib.rcParams['figure.facecolor'] = '#00000000'"
   ]
  },
  {
   "cell_type": "code",
   "execution_count": 26,
   "metadata": {
    "execution": {
     "iopub.execute_input": "2021-08-19T18:30:02.937670Z",
     "iopub.status.busy": "2021-08-19T18:30:02.936876Z",
     "iopub.status.idle": "2021-08-19T18:30:09.590234Z",
     "shell.execute_reply": "2021-08-19T18:30:09.589034Z",
     "shell.execute_reply.started": "2021-08-19T18:30:02.937626Z"
    }
   },
   "outputs": [
    {
     "name": "stderr",
     "output_type": "stream",
     "text": [
      "/opt/conda/lib/python3.9/site-packages/seaborn/distributions.py:2619: FutureWarning: `distplot` is a deprecated function and will be removed in a future version. Please adapt your code to use either `displot` (a figure-level function with similar flexibility) or `histplot` (an axes-level function for histograms).\n",
      "  warnings.warn(msg, FutureWarning)\n"
     ]
    },
    {
     "data": {
      "text/plain": [
       "Text(0.5, 0, 'Trip Duration (in hour)')"
      ]
     },
     "execution_count": 26,
     "metadata": {},
     "output_type": "execute_result"
    },
    {
     "data": {
      "image/png": "[encoded data removed]",
      "text/plain": [
       "<Figure size 576x360 with 1 Axes>"
      ]
     },
     "metadata": {
      "needs_background": "light"
     },
     "output_type": "display_data"
    }
   ],
   "source": [
    "plt.figure(figsize=(8,5))\n",
    "sns.distplot(train_df['trip_duration']).set_title(\"Distribution of Trip Duration\")\n",
    "plt.xlabel(\"Trip Duration (in hour)\")"
   ]
  },
  {
   "cell_type": "code",
   "execution_count": 27,
   "metadata": {
    "execution": {
     "iopub.execute_input": "2021-08-19T18:30:09.592713Z",
     "iopub.status.busy": "2021-08-19T18:30:09.592217Z",
     "iopub.status.idle": "2021-08-19T18:30:15.210130Z",
     "shell.execute_reply": "2021-08-19T18:30:15.208764Z",
     "shell.execute_reply.started": "2021-08-19T18:30:09.592669Z"
    }
   },
   "outputs": [
    {
     "data": {
      "text/plain": [
       "(-74.03, -73.75)"
      ]
     },
     "execution_count": 27,
     "metadata": {},
     "output_type": "execute_result"
    },
    {
     "data": {
      "image/png": "[encoded data removed]",
      "text/plain": [
       "<Figure size 720x432 with 1 Axes>"
      ]
     },
     "metadata": {
      "needs_background": "light"
     },
     "output_type": "display_data"
    }
   ],
   "source": [
    "city_long_border = (-74.03, -73.75)\n",
    "city_lat_border = (40.63, 40.85)\n",
    "fig, ax = plt.subplots(ncols=1, sharex=True, sharey=True)\n",
    "ax.scatter(train_df['pickup_longitude'], train_df['pickup_latitude'],\n",
    "              color='blue', label='train', alpha=0.1)\n",
    "\n",
    "fig.suptitle('Lat Lng of Pickups in Train Data as Scatter Plot')\n",
    "\n",
    "ax.set_ylabel('latitude')\n",
    "ax.set_xlabel('longitude')\n",
    "plt.ylim(city_lat_border)\n",
    "plt.xlim(city_long_border)"
   ]
  },
  {
   "cell_type": "code",
   "execution_count": 28,
   "metadata": {
    "execution": {
     "iopub.execute_input": "2021-08-19T18:30:15.212251Z",
     "iopub.status.busy": "2021-08-19T18:30:15.211770Z",
     "iopub.status.idle": "2021-08-19T18:30:15.892969Z",
     "shell.execute_reply": "2021-08-19T18:30:15.891399Z",
     "shell.execute_reply.started": "2021-08-19T18:30:15.212186Z"
    }
   },
   "outputs": [
    {
     "data": {
      "text/plain": [
       "Text(0.5, 1.0, 'Pickup Hours Distribution')"
      ]
     },
     "execution_count": 28,
     "metadata": {},
     "output_type": "execute_result"
    },
    {
     "data": {
      "image/png": "[encoded data removed]",
      "text/plain": [
       "<Figure size 576x360 with 1 Axes>"
      ]
     },
     "metadata": {
      "needs_background": "light"
     },
     "output_type": "display_data"
    }
   ],
   "source": [
    "## which hours are pickup and dropoff higher?\n",
    "\n",
    "plt.figure(figsize=(8,5))\n",
    "sns.countplot(x=train_df['pickup_hour']).set_title(\"Pickup Hours Distribution\")"
   ]
  },
  {
   "cell_type": "code",
   "execution_count": 29,
   "metadata": {
    "execution": {
     "iopub.execute_input": "2021-08-19T18:30:15.895744Z",
     "iopub.status.busy": "2021-08-19T18:30:15.895205Z",
     "iopub.status.idle": "2021-08-19T18:30:17.108521Z",
     "shell.execute_reply": "2021-08-19T18:30:17.106941Z",
     "shell.execute_reply.started": "2021-08-19T18:30:15.895694Z"
    }
   },
   "outputs": [
    {
     "data": {
      "text/plain": [
       "Text(0.5, 1.0, 'Pickup Day of Week Distribution')"
      ]
     },
     "execution_count": 29,
     "metadata": {},
     "output_type": "execute_result"
    },
    {
     "data": {
      "image/png": "[encoded data removed]",
      "text/plain": [
       "<Figure size 576x360 with 1 Axes>"
      ]
     },
     "metadata": {
      "needs_background": "light"
     },
     "output_type": "display_data"
    }
   ],
   "source": [
    "## which hours are pickup and dropoff higher?\n",
    "\n",
    "plt.figure(figsize=(8,5))\n",
    "sns.countplot(x=train_df['pickup_dayofweek']).set_title(\"Pickup Day of Week Distribution\")"
   ]
  },
  {
   "cell_type": "code",
   "execution_count": 30,
   "metadata": {
    "execution": {
     "iopub.execute_input": "2021-08-19T18:30:25.425009Z",
     "iopub.status.busy": "2021-08-19T18:30:25.424493Z",
     "iopub.status.idle": "2021-08-19T18:30:25.431283Z",
     "shell.execute_reply": "2021-08-19T18:30:25.429646Z",
     "shell.execute_reply.started": "2021-08-19T18:30:25.424961Z"
    }
   },
   "outputs": [],
   "source": [
    "#jovian.commit()"
   ]
  },
  {
   "cell_type": "markdown",
   "metadata": {},
   "source": [
    "## More preprocessing :"
   ]
  },
  {
   "cell_type": "markdown",
   "metadata": {},
   "source": [
    "### Creating a train, validation split"
   ]
  },
  {
   "cell_type": "code",
   "execution_count": 31,
   "metadata": {
    "execution": {
     "iopub.execute_input": "2021-08-19T18:30:25.434700Z",
     "iopub.status.busy": "2021-08-19T18:30:25.433927Z",
     "iopub.status.idle": "2021-08-19T18:30:26.027941Z",
     "shell.execute_reply": "2021-08-19T18:30:26.026659Z",
     "shell.execute_reply.started": "2021-08-19T18:30:25.434649Z"
    }
   },
   "outputs": [],
   "source": [
    "month = pd.to_datetime(train_df.pickup_datetime).dt.month\n",
    "val_df = train_df[month == 6]\n",
    "train_df = train_df[month < 6]\n",
    "\n"
   ]
  },
  {
   "cell_type": "code",
   "execution_count": 32,
   "metadata": {
    "execution": {
     "iopub.execute_input": "2021-08-19T18:30:26.030361Z",
     "iopub.status.busy": "2021-08-19T18:30:26.029865Z",
     "iopub.status.idle": "2021-08-19T18:30:26.039569Z",
     "shell.execute_reply": "2021-08-19T18:30:26.037850Z",
     "shell.execute_reply.started": "2021-08-19T18:30:26.030309Z"
    }
   },
   "outputs": [
    {
     "name": "stdout",
     "output_type": "stream",
     "text": [
      "train_df.shape : (1224324, 23)\n",
      "val_df.shape : (234316, 23)\n",
      "test_df.shape : (625134, 15)\n"
     ]
    }
   ],
   "source": [
    "print('train_df.shape :', train_df.shape)\n",
    "print('val_df.shape :', val_df.shape)\n",
    "print('test_df.shape :', test_df.shape)\n"
   ]
  },
  {
   "cell_type": "code",
   "execution_count": 33,
   "metadata": {
    "execution": {
     "iopub.execute_input": "2021-08-19T18:55:31.762213Z",
     "iopub.status.busy": "2021-08-19T18:55:31.761713Z",
     "iopub.status.idle": "2021-08-19T18:55:31.822478Z",
     "shell.execute_reply": "2021-08-19T18:55:31.821242Z",
     "shell.execute_reply.started": "2021-08-19T18:55:31.762179Z"
    }
   },
   "outputs": [],
   "source": [
    "train_df=train_df.drop(['pickup_datetime','dropoff_datetime','pickup_dayofweek'], axis=1)\n",
    "val_df=val_df.drop(['pickup_datetime','dropoff_datetime','pickup_dayofweek'], axis=1)\n",
    "test_df=test_df.drop(['pickup_datetime','pickup_dayofweek'], axis=1)"
   ]
  },
  {
   "cell_type": "markdown",
   "metadata": {},
   "source": [
    "## Identifying Input and Target columns :"
   ]
  },
  {
   "cell_type": "code",
   "execution_count": 34,
   "metadata": {
    "execution": {
     "iopub.execute_input": "2021-08-19T18:30:26.207612Z",
     "iopub.status.busy": "2021-08-19T18:30:26.207231Z",
     "iopub.status.idle": "2021-08-19T18:30:26.214025Z",
     "shell.execute_reply": "2021-08-19T18:30:26.212448Z",
     "shell.execute_reply.started": "2021-08-19T18:30:26.207567Z"
    }
   },
   "outputs": [],
   "source": [
    "input_cols=list(['id', 'vendor_id',  'passenger_count',\n",
    "       'pickup_longitude', 'pickup_latitude', 'dropoff_longitude',\n",
    "       'dropoff_latitude', 'store_and_fwd_flag','pickup_year', 'pickup_month', 'pickup_day',\n",
    "       'pickup_hour','pickup_minute' ])\n",
    "target_cols=list(['trip_duration'])"
   ]
  },
  {
   "cell_type": "code",
   "execution_count": 35,
   "metadata": {
    "execution": {
     "iopub.execute_input": "2021-08-19T18:30:26.220964Z",
     "iopub.status.busy": "2021-08-19T18:30:26.220138Z",
     "iopub.status.idle": "2021-08-19T18:30:26.391450Z",
     "shell.execute_reply": "2021-08-19T18:30:26.390278Z",
     "shell.execute_reply.started": "2021-08-19T18:30:26.220710Z"
    }
   },
   "outputs": [],
   "source": [
    "train_inputs = train_df[input_cols].copy()\n",
    "train_targets = train_df[target_cols].copy()\n",
    "train_targets = train_targets.values.reshape(len(train_targets),)"
   ]
  },
  {
   "cell_type": "code",
   "execution_count": 36,
   "metadata": {
    "execution": {
     "iopub.execute_input": "2021-08-19T18:30:26.393556Z",
     "iopub.status.busy": "2021-08-19T18:30:26.393095Z",
     "iopub.status.idle": "2021-08-19T18:30:26.436862Z",
     "shell.execute_reply": "2021-08-19T18:30:26.435598Z",
     "shell.execute_reply.started": "2021-08-19T18:30:26.393486Z"
    }
   },
   "outputs": [],
   "source": [
    "val_inputs = val_df[input_cols].copy()\n",
    "val_targets = val_df[target_cols].copy()\n",
    "val_targets = val_targets.values.reshape(len(val_targets),)"
   ]
  },
  {
   "cell_type": "code",
   "execution_count": 37,
   "metadata": {
    "execution": {
     "iopub.execute_input": "2021-08-19T18:58:51.968948Z",
     "iopub.status.busy": "2021-08-19T18:58:51.968489Z",
     "iopub.status.idle": "2021-08-19T18:58:52.007351Z",
     "shell.execute_reply": "2021-08-19T18:58:52.006145Z",
     "shell.execute_reply.started": "2021-08-19T18:58:51.968912Z"
    }
   },
   "outputs": [],
   "source": [
    "test_inputs=test_df.copy()"
   ]
  },
  {
   "cell_type": "markdown",
   "metadata": {},
   "source": [
    "We will now find out the numerical and categorical columns of our dataset using the `select_dtypes` method."
   ]
  },
  {
   "cell_type": "code",
   "execution_count": 38,
   "metadata": {
    "execution": {
     "iopub.execute_input": "2021-08-19T18:30:26.501064Z",
     "iopub.status.busy": "2021-08-19T18:30:26.500552Z",
     "iopub.status.idle": "2021-08-19T18:30:26.562734Z",
     "shell.execute_reply": "2021-08-19T18:30:26.561466Z",
     "shell.execute_reply.started": "2021-08-19T18:30:26.501015Z"
    }
   },
   "outputs": [],
   "source": [
    "categorical_cols = train_inputs.select_dtypes('object').columns.tolist()"
   ]
  },
  {
   "cell_type": "code",
   "execution_count": 39,
   "metadata": {
    "execution": {
     "iopub.execute_input": "2021-08-19T18:30:26.565185Z",
     "iopub.status.busy": "2021-08-19T18:30:26.564659Z",
     "iopub.status.idle": "2021-08-19T18:30:26.571680Z",
     "shell.execute_reply": "2021-08-19T18:30:26.570060Z",
     "shell.execute_reply.started": "2021-08-19T18:30:26.565132Z"
    }
   },
   "outputs": [],
   "source": [
    "numeric_cols=['vendor_id',\n",
    " 'passenger_count',\n",
    " 'pickup_longitude',\n",
    " 'pickup_latitude',\n",
    " 'dropoff_longitude',\n",
    " 'dropoff_latitude']"
   ]
  },
  {
   "cell_type": "code",
   "execution_count": 40,
   "metadata": {
    "execution": {
     "iopub.execute_input": "2021-08-19T18:30:26.575003Z",
     "iopub.status.busy": "2021-08-19T18:30:26.573762Z",
     "iopub.status.idle": "2021-08-19T18:30:26.585626Z",
     "shell.execute_reply": "2021-08-19T18:30:26.583903Z",
     "shell.execute_reply.started": "2021-08-19T18:30:26.574934Z"
    }
   },
   "outputs": [
    {
     "name": "stdout",
     "output_type": "stream",
     "text": [
      "['vendor_id', 'passenger_count', 'pickup_longitude', 'pickup_latitude', 'dropoff_longitude', 'dropoff_latitude']\n"
     ]
    }
   ],
   "source": [
    "print(numeric_cols)\n"
   ]
  },
  {
   "cell_type": "code",
   "execution_count": 41,
   "metadata": {
    "execution": {
     "iopub.execute_input": "2021-08-19T18:30:26.588923Z",
     "iopub.status.busy": "2021-08-19T18:30:26.588313Z",
     "iopub.status.idle": "2021-08-19T18:30:26.597364Z",
     "shell.execute_reply": "2021-08-19T18:30:26.595850Z",
     "shell.execute_reply.started": "2021-08-19T18:30:26.588872Z"
    }
   },
   "outputs": [
    {
     "name": "stdout",
     "output_type": "stream",
     "text": [
      "['id', 'store_and_fwd_flag']\n"
     ]
    }
   ],
   "source": [
    "print(categorical_cols)\n"
   ]
  },
  {
   "cell_type": "markdown",
   "metadata": {},
   "source": [
    "## Imputing missing numeric values\n",
    "\n"
   ]
  },
  {
   "cell_type": "code",
   "execution_count": 42,
   "metadata": {
    "execution": {
     "iopub.execute_input": "2021-08-19T18:30:26.600969Z",
     "iopub.status.busy": "2021-08-19T18:30:26.599797Z",
     "iopub.status.idle": "2021-08-19T18:30:26.861148Z",
     "shell.execute_reply": "2021-08-19T18:30:26.859855Z",
     "shell.execute_reply.started": "2021-08-19T18:30:26.600901Z"
    }
   },
   "outputs": [
    {
     "data": {
      "text/plain": [
       "id                    0\n",
       "vendor_id             0\n",
       "passenger_count       0\n",
       "pickup_longitude      0\n",
       "pickup_latitude       0\n",
       "dropoff_longitude     0\n",
       "dropoff_latitude      0\n",
       "store_and_fwd_flag    0\n",
       "trip_duration         0\n",
       "pickup_year           0\n",
       "pickup_month          0\n",
       "pickup_day            0\n",
       "pickup_hour           0\n",
       "pickup_minute         0\n",
       "dropoff_year          0\n",
       "dropoff_month         0\n",
       "dropoff_day           0\n",
       "dropoff_hour          0\n",
       "dropoff_minute        0\n",
       "dropoff_dayofweek     0\n",
       "dtype: int64"
      ]
     },
     "execution_count": 42,
     "metadata": {},
     "output_type": "execute_result"
    }
   ],
   "source": [
    "train_df.isna().sum()"
   ]
  },
  {
   "cell_type": "code",
   "execution_count": 43,
   "metadata": {
    "execution": {
     "iopub.execute_input": "2021-08-19T18:30:26.863300Z",
     "iopub.status.busy": "2021-08-19T18:30:26.862851Z",
     "iopub.status.idle": "2021-08-19T18:30:26.933600Z",
     "shell.execute_reply": "2021-08-19T18:30:26.932492Z",
     "shell.execute_reply.started": "2021-08-19T18:30:26.863254Z"
    }
   },
   "outputs": [
    {
     "data": {
      "text/plain": [
       "id                    0\n",
       "vendor_id             0\n",
       "passenger_count       0\n",
       "pickup_longitude      0\n",
       "pickup_latitude       0\n",
       "dropoff_longitude     0\n",
       "dropoff_latitude      0\n",
       "store_and_fwd_flag    0\n",
       "trip_duration         0\n",
       "pickup_year           0\n",
       "pickup_month          0\n",
       "pickup_day            0\n",
       "pickup_hour           0\n",
       "pickup_minute         0\n",
       "dropoff_year          0\n",
       "dropoff_month         0\n",
       "dropoff_day           0\n",
       "dropoff_hour          0\n",
       "dropoff_minute        0\n",
       "dropoff_dayofweek     0\n",
       "dtype: int64"
      ]
     },
     "execution_count": 43,
     "metadata": {},
     "output_type": "execute_result"
    }
   ],
   "source": [
    "val_df.isna().sum()"
   ]
  },
  {
   "cell_type": "code",
   "execution_count": 44,
   "metadata": {
    "execution": {
     "iopub.execute_input": "2021-08-19T18:30:26.936678Z",
     "iopub.status.busy": "2021-08-19T18:30:26.935994Z",
     "iopub.status.idle": "2021-08-19T18:30:27.070126Z",
     "shell.execute_reply": "2021-08-19T18:30:27.068921Z",
     "shell.execute_reply.started": "2021-08-19T18:30:26.936632Z"
    }
   },
   "outputs": [
    {
     "data": {
      "text/plain": [
       "id                    0\n",
       "vendor_id             0\n",
       "passenger_count       0\n",
       "pickup_longitude      0\n",
       "pickup_latitude       0\n",
       "dropoff_longitude     0\n",
       "dropoff_latitude      0\n",
       "store_and_fwd_flag    0\n",
       "pickup_year           0\n",
       "pickup_month          0\n",
       "pickup_day            0\n",
       "pickup_hour           0\n",
       "pickup_minute         0\n",
       "dtype: int64"
      ]
     },
     "execution_count": 44,
     "metadata": {},
     "output_type": "execute_result"
    }
   ],
   "source": [
    "test_df.isna().sum()"
   ]
  },
  {
   "cell_type": "code",
   "execution_count": 45,
   "metadata": {
    "execution": {
     "iopub.execute_input": "2021-08-19T18:30:27.072589Z",
     "iopub.status.busy": "2021-08-19T18:30:27.072071Z",
     "iopub.status.idle": "2021-08-19T18:30:27.081632Z",
     "shell.execute_reply": "2021-08-19T18:30:27.080324Z",
     "shell.execute_reply.started": "2021-08-19T18:30:27.072541Z"
    }
   },
   "outputs": [],
   "source": [
    "from sklearn.impute import SimpleImputer"
   ]
  },
  {
   "cell_type": "code",
   "execution_count": 46,
   "metadata": {
    "execution": {
     "iopub.execute_input": "2021-08-19T18:30:27.084946Z",
     "iopub.status.busy": "2021-08-19T18:30:27.084064Z",
     "iopub.status.idle": "2021-08-19T18:30:27.091619Z",
     "shell.execute_reply": "2021-08-19T18:30:27.090071Z",
     "shell.execute_reply.started": "2021-08-19T18:30:27.084726Z"
    }
   },
   "outputs": [],
   "source": [
    "#imputer = SimpleImputer(strategy = 'mean').fit(train_df[numeric_cols])"
   ]
  },
  {
   "cell_type": "code",
   "execution_count": 47,
   "metadata": {
    "execution": {
     "iopub.execute_input": "2021-08-19T18:30:27.094926Z",
     "iopub.status.busy": "2021-08-19T18:30:27.093995Z",
     "iopub.status.idle": "2021-08-19T18:30:27.104395Z",
     "shell.execute_reply": "2021-08-19T18:30:27.102968Z",
     "shell.execute_reply.started": "2021-08-19T18:30:27.094877Z"
    }
   },
   "outputs": [],
   "source": [
    "#train_inputs[numeric_cols] = imputer.transform(train_inputs[numeric_cols])\n",
    "#val_inputs[numeric_cols] = imputer.transform(val_inputs[numeric_cols])\n",
    "#test_inputs[numeric_cols] = imputer.transform(test_inputs[numeric_cols])"
   ]
  },
  {
   "cell_type": "markdown",
   "metadata": {},
   "source": [
    "## Scaling Numerical Features:\n"
   ]
  },
  {
   "cell_type": "code",
   "execution_count": 48,
   "metadata": {
    "execution": {
     "iopub.execute_input": "2021-08-19T18:30:27.108361Z",
     "iopub.status.busy": "2021-08-19T18:30:27.107382Z",
     "iopub.status.idle": "2021-08-19T18:30:27.115363Z",
     "shell.execute_reply": "2021-08-19T18:30:27.114110Z",
     "shell.execute_reply.started": "2021-08-19T18:30:27.108302Z"
    }
   },
   "outputs": [],
   "source": [
    "from sklearn.preprocessing import MinMaxScaler"
   ]
  },
  {
   "cell_type": "code",
   "execution_count": 49,
   "metadata": {
    "execution": {
     "iopub.execute_input": "2021-08-19T18:30:27.117952Z",
     "iopub.status.busy": "2021-08-19T18:30:27.117300Z",
     "iopub.status.idle": "2021-08-19T18:30:27.202947Z",
     "shell.execute_reply": "2021-08-19T18:30:27.201698Z",
     "shell.execute_reply.started": "2021-08-19T18:30:27.117889Z"
    }
   },
   "outputs": [],
   "source": [
    "scaler = MinMaxScaler().fit(train_df[numeric_cols])"
   ]
  },
  {
   "cell_type": "code",
   "execution_count": 50,
   "metadata": {
    "execution": {
     "iopub.execute_input": "2021-08-19T18:59:03.439342Z",
     "iopub.status.busy": "2021-08-19T18:59:03.438940Z",
     "iopub.status.idle": "2021-08-19T18:59:04.635332Z",
     "shell.execute_reply": "2021-08-19T18:59:04.634102Z",
     "shell.execute_reply.started": "2021-08-19T18:59:03.439310Z"
    }
   },
   "outputs": [],
   "source": [
    "train_inputs[numeric_cols] = scaler.transform(train_inputs[numeric_cols])\n",
    "val_inputs[numeric_cols] = scaler.transform(val_inputs[numeric_cols])\n",
    "test_inputs[numeric_cols] = scaler.transform(test_inputs[numeric_cols])"
   ]
  },
  {
   "cell_type": "code",
   "execution_count": 51,
   "metadata": {
    "execution": {
     "iopub.execute_input": "2021-08-19T18:30:30.834265Z",
     "iopub.status.busy": "2021-08-19T18:30:30.833788Z",
     "iopub.status.idle": "2021-08-19T18:30:30.964734Z",
     "shell.execute_reply": "2021-08-19T18:30:30.963245Z",
     "shell.execute_reply.started": "2021-08-19T18:30:30.834218Z"
    }
   },
   "outputs": [
    {
     "data": {
      "text/html": [
       "<div>\n",
       "<style scoped>\n",
       "    .dataframe tbody tr th:only-of-type {\n",
       "        vertical-align: middle;\n",
       "    }\n",
       "\n",
       "    .dataframe tbody tr th {\n",
       "        vertical-align: top;\n",
       "    }\n",
       "\n",
       "    .dataframe thead th {\n",
       "        text-align: right;\n",
       "    }\n",
       "</style>\n",
       "<table border=\"1\" class=\"dataframe\">\n",
       "  <thead>\n",
       "    <tr style=\"text-align: right;\">\n",
       "      <th></th>\n",
       "      <th>vendor_id</th>\n",
       "      <th>passenger_count</th>\n",
       "      <th>pickup_longitude</th>\n",
       "      <th>pickup_latitude</th>\n",
       "      <th>dropoff_longitude</th>\n",
       "      <th>dropoff_latitude</th>\n",
       "      <th>pickup_year</th>\n",
       "      <th>pickup_month</th>\n",
       "      <th>pickup_day</th>\n",
       "      <th>pickup_hour</th>\n",
       "      <th>pickup_minute</th>\n",
       "    </tr>\n",
       "  </thead>\n",
       "  <tbody>\n",
       "    <tr>\n",
       "      <th>min</th>\n",
       "      <td>0.0</td>\n",
       "      <td>0.000</td>\n",
       "      <td>0.779015</td>\n",
       "      <td>0.327605</td>\n",
       "      <td>0.780064</td>\n",
       "      <td>0.53639</td>\n",
       "      <td>2016.0</td>\n",
       "      <td>6.0</td>\n",
       "      <td>1.0</td>\n",
       "      <td>0.0</td>\n",
       "      <td>0.0</td>\n",
       "    </tr>\n",
       "    <tr>\n",
       "      <th>max</th>\n",
       "      <td>1.0</td>\n",
       "      <td>1.125</td>\n",
       "      <td>0.848569</td>\n",
       "      <td>0.462249</td>\n",
       "      <td>0.848569</td>\n",
       "      <td>0.87546</td>\n",
       "      <td>2016.0</td>\n",
       "      <td>6.0</td>\n",
       "      <td>30.0</td>\n",
       "      <td>23.0</td>\n",
       "      <td>59.0</td>\n",
       "    </tr>\n",
       "  </tbody>\n",
       "</table>\n",
       "</div>"
      ],
      "text/plain": [
       "     vendor_id  passenger_count  pickup_longitude  pickup_latitude  \\\n",
       "min        0.0            0.000          0.779015         0.327605   \n",
       "max        1.0            1.125          0.848569         0.462249   \n",
       "\n",
       "     dropoff_longitude  dropoff_latitude  pickup_year  pickup_month  \\\n",
       "min           0.780064           0.53639       2016.0           6.0   \n",
       "max           0.848569           0.87546       2016.0           6.0   \n",
       "\n",
       "     pickup_day  pickup_hour  pickup_minute  \n",
       "min         1.0          0.0            0.0  \n",
       "max        30.0         23.0           59.0  "
      ]
     },
     "execution_count": 51,
     "metadata": {},
     "output_type": "execute_result"
    }
   ],
   "source": [
    "val_inputs.describe().loc[['min', 'max']]"
   ]
  },
  {
   "cell_type": "markdown",
   "metadata": {},
   "source": [
    "## Encoding Categorical Data:\n",
    "\n",
    "\n"
   ]
  },
  {
   "cell_type": "code",
   "execution_count": 52,
   "metadata": {
    "execution": {
     "iopub.execute_input": "2021-08-19T18:30:30.967368Z",
     "iopub.status.busy": "2021-08-19T18:30:30.966841Z",
     "iopub.status.idle": "2021-08-19T18:30:30.973217Z",
     "shell.execute_reply": "2021-08-19T18:30:30.971659Z",
     "shell.execute_reply.started": "2021-08-19T18:30:30.967317Z"
    }
   },
   "outputs": [],
   "source": [
    "from sklearn.preprocessing import OrdinalEncoder"
   ]
  },
  {
   "cell_type": "code",
   "execution_count": 53,
   "metadata": {
    "execution": {
     "iopub.execute_input": "2021-08-19T18:30:30.975774Z",
     "iopub.status.busy": "2021-08-19T18:30:30.975143Z",
     "iopub.status.idle": "2021-08-19T18:30:32.928647Z",
     "shell.execute_reply": "2021-08-19T18:30:32.927376Z",
     "shell.execute_reply.started": "2021-08-19T18:30:30.975728Z"
    }
   },
   "outputs": [],
   "source": [
    "encoder = OrdinalEncoder().fit(train_df[categorical_cols])"
   ]
  },
  {
   "cell_type": "code",
   "execution_count": 54,
   "metadata": {
    "execution": {
     "iopub.execute_input": "2021-08-19T18:59:12.332432Z",
     "iopub.status.busy": "2021-08-19T18:59:12.332054Z",
     "iopub.status.idle": "2021-08-19T18:59:14.646186Z",
     "shell.execute_reply": "2021-08-19T18:59:14.644986Z",
     "shell.execute_reply.started": "2021-08-19T18:59:12.332400Z"
    }
   },
   "outputs": [],
   "source": [
    "train_inputs[categorical_cols] = encoder.fit_transform(train_inputs[categorical_cols])\n",
    "val_inputs[categorical_cols] = encoder.fit_transform(val_inputs[categorical_cols])\n",
    "test_inputs[categorical_cols] = encoder.fit_transform(test_inputs[categorical_cols])"
   ]
  },
  {
   "cell_type": "code",
   "execution_count": null,
   "metadata": {
    "execution": {
     "iopub.execute_input": "2021-08-19T18:30:41.805542Z",
     "iopub.status.busy": "2021-08-19T18:30:41.805115Z",
     "iopub.status.idle": "2021-08-19T18:30:41.812408Z",
     "shell.execute_reply": "2021-08-19T18:30:41.810025Z",
     "shell.execute_reply.started": "2021-08-19T18:30:41.805492Z"
    }
   },
   "outputs": [
    {
     "data": {
      "application/javascript": [
       "window.require && require([\"base/js/namespace\"],function(Jupyter){Jupyter.notebook.save_checkpoint()})"
      ],
      "text/plain": [
       "<IPython.core.display.Javascript object>"
      ]
     },
     "metadata": {},
     "output_type": "display_data"
    }
   ],
   "source": [
    "jovian.commit()"
   ]
  },
  {
   "cell_type": "markdown",
   "metadata": {},
   "source": [
    "## Training our model:\n",
    " \n"
   ]
  },
  {
   "cell_type": "markdown",
   "metadata": {},
   "source": [
    "### Training an Adaboost Regressor model"
   ]
  },
  {
   "cell_type": "code",
   "execution_count": null,
   "metadata": {},
   "outputs": [],
   "source": [
    "from sklearn.ensemble import AdaBoostRegressor"
   ]
  },
  {
   "cell_type": "code",
   "execution_count": null,
   "metadata": {},
   "outputs": [],
   "source": [
    "model1 = AdaBoostRegressor(random_state=42)"
   ]
  },
  {
   "cell_type": "code",
   "execution_count": null,
   "metadata": {},
   "outputs": [],
   "source": [
    "model1.fit(train_inputs, train_targets)"
   ]
  },
  {
   "cell_type": "markdown",
   "metadata": {},
   "source": [
    "### Evaluating the Adaboost Regressor  model"
   ]
  },
  {
   "cell_type": "code",
   "execution_count": null,
   "metadata": {},
   "outputs": [],
   "source": [
    "from sklearn.metrics import mean_squared_error\n",
    "\n",
    "def rmse(a, b):\n",
    "    return mean_squared_error(a, b, squared=False)"
   ]
  },
  {
   "cell_type": "code",
   "execution_count": null,
   "metadata": {},
   "outputs": [],
   "source": [
    "train_preds1 = model1.predict(train_inputs)\n",
    "train_preds1"
   ]
  },
  {
   "cell_type": "code",
   "execution_count": null,
   "metadata": {},
   "outputs": [],
   "source": [
    "rmse(train_targets, train_preds1)"
   ]
  },
  {
   "cell_type": "code",
   "execution_count": null,
   "metadata": {},
   "outputs": [],
   "source": [
    "val_preds1=model1.predict(val_inputs)"
   ]
  },
  {
   "cell_type": "code",
   "execution_count": null,
   "metadata": {},
   "outputs": [],
   "source": [
    "rmse(val_targets,val_preds1)"
   ]
  },
  {
   "cell_type": "markdown",
   "metadata": {},
   "source": [
    "### Training XGB model"
   ]
  },
  {
   "cell_type": "code",
   "execution_count": null,
   "metadata": {
    "execution": {
     "iopub.execute_input": "2021-08-19T18:30:41.815659Z",
     "iopub.status.busy": "2021-08-19T18:30:41.814870Z",
     "iopub.status.idle": "2021-08-19T18:30:41.822512Z",
     "shell.execute_reply": "2021-08-19T18:30:41.821197Z",
     "shell.execute_reply.started": "2021-08-19T18:30:41.815607Z"
    }
   },
   "outputs": [],
   "source": [
    "from xgboost import XGBRegressor"
   ]
  },
  {
   "cell_type": "code",
   "execution_count": null,
   "metadata": {
    "execution": {
     "iopub.execute_input": "2021-08-19T18:30:41.899111Z",
     "iopub.status.busy": "2021-08-19T18:30:41.898492Z",
     "iopub.status.idle": "2021-08-19T18:30:41.905325Z",
     "shell.execute_reply": "2021-08-19T18:30:41.903685Z",
     "shell.execute_reply.started": "2021-08-19T18:30:41.899064Z"
    }
   },
   "outputs": [],
   "source": [
    "model = XGBRegressor(random_state=42,n_jobs=-1, n_estimators=20, max_depth=4)"
   ]
  },
  {
   "cell_type": "code",
   "execution_count": null,
   "metadata": {
    "execution": {
     "iopub.execute_input": "2021-08-19T18:30:41.908451Z",
     "iopub.status.busy": "2021-08-19T18:30:41.907598Z",
     "iopub.status.idle": "2021-08-19T18:31:06.225909Z",
     "shell.execute_reply": "2021-08-19T18:31:06.223601Z",
     "shell.execute_reply.started": "2021-08-19T18:30:41.908400Z"
    }
   },
   "outputs": [],
   "source": [
    "model.fit(train_inputs, train_targets)"
   ]
  },
  {
   "cell_type": "markdown",
   "metadata": {},
   "source": [
    "### Evaluating XGB model\n",
    "\n",
    "Let's evaluate the decision tree using the accuracy score."
   ]
  },
  {
   "cell_type": "code",
   "execution_count": null,
   "metadata": {
    "execution": {
     "iopub.execute_input": "2021-08-19T18:31:06.228488Z",
     "iopub.status.busy": "2021-08-19T18:31:06.227959Z",
     "iopub.status.idle": "2021-08-19T18:31:06.236062Z",
     "shell.execute_reply": "2021-08-19T18:31:06.234275Z",
     "shell.execute_reply.started": "2021-08-19T18:31:06.228429Z"
    }
   },
   "outputs": [],
   "source": [
    "from sklearn.metrics import mean_squared_error\n",
    "\n",
    "def rmse(a, b):\n",
    "    return mean_squared_error(a, b, squared=False)"
   ]
  },
  {
   "cell_type": "code",
   "execution_count": null,
   "metadata": {
    "execution": {
     "iopub.execute_input": "2021-08-19T18:31:06.238781Z",
     "iopub.status.busy": "2021-08-19T18:31:06.238109Z",
     "iopub.status.idle": "2021-08-19T18:31:06.952179Z",
     "shell.execute_reply": "2021-08-19T18:31:06.950986Z",
     "shell.execute_reply.started": "2021-08-19T18:31:06.238716Z"
    }
   },
   "outputs": [],
   "source": [
    "train_preds = model.predict(train_inputs)\n",
    "train_preds"
   ]
  },
  {
   "cell_type": "code",
   "execution_count": null,
   "metadata": {
    "execution": {
     "iopub.execute_input": "2021-08-19T18:31:06.954641Z",
     "iopub.status.busy": "2021-08-19T18:31:06.954137Z",
     "iopub.status.idle": "2021-08-19T18:31:06.972734Z",
     "shell.execute_reply": "2021-08-19T18:31:06.971120Z",
     "shell.execute_reply.started": "2021-08-19T18:31:06.954591Z"
    }
   },
   "outputs": [],
   "source": [
    "rmse(train_targets, train_preds)"
   ]
  },
  {
   "cell_type": "code",
   "execution_count": null,
   "metadata": {
    "execution": {
     "iopub.execute_input": "2021-08-19T18:31:06.975333Z",
     "iopub.status.busy": "2021-08-19T18:31:06.974843Z",
     "iopub.status.idle": "2021-08-19T18:31:07.104107Z",
     "shell.execute_reply": "2021-08-19T18:31:07.102893Z",
     "shell.execute_reply.started": "2021-08-19T18:31:06.975283Z"
    }
   },
   "outputs": [],
   "source": [
    "val_preds=model.predict(val_inputs)"
   ]
  },
  {
   "cell_type": "code",
   "execution_count": null,
   "metadata": {
    "execution": {
     "iopub.execute_input": "2021-08-19T18:31:07.106293Z",
     "iopub.status.busy": "2021-08-19T18:31:07.105782Z",
     "iopub.status.idle": "2021-08-19T18:31:07.118426Z",
     "shell.execute_reply": "2021-08-19T18:31:07.116490Z",
     "shell.execute_reply.started": "2021-08-19T18:31:07.106246Z"
    }
   },
   "outputs": [],
   "source": [
    "rmse(val_targets,val_preds)"
   ]
  },
  {
   "cell_type": "markdown",
   "metadata": {},
   "source": [
    "### Feature Importance\n",
    "\n",
    "Based on the gini index computations, a decision tree assigns an \"importance\" value to each feature. These values can be used to interpret the results given by a decision tree."
   ]
  },
  {
   "cell_type": "code",
   "execution_count": null,
   "metadata": {
    "execution": {
     "iopub.execute_input": "2021-08-19T18:31:09.180387Z",
     "iopub.status.busy": "2021-08-19T18:31:09.179588Z",
     "iopub.status.idle": "2021-08-19T18:31:09.214717Z",
     "shell.execute_reply": "2021-08-19T18:31:09.213387Z",
     "shell.execute_reply.started": "2021-08-19T18:31:09.180338Z"
    }
   },
   "outputs": [],
   "source": [
    "model.feature_importances_"
   ]
  },
  {
   "cell_type": "code",
   "execution_count": null,
   "metadata": {
    "execution": {
     "iopub.execute_input": "2021-08-19T18:31:09.221998Z",
     "iopub.status.busy": "2021-08-19T18:31:09.219558Z",
     "iopub.status.idle": "2021-08-19T18:31:09.258007Z",
     "shell.execute_reply": "2021-08-19T18:31:09.256986Z",
     "shell.execute_reply.started": "2021-08-19T18:31:09.221945Z"
    }
   },
   "outputs": [],
   "source": [
    "importance_df = pd.DataFrame({\n",
    "    'feature': train_inputs.columns,\n",
    "    'importance': model.feature_importances_\n",
    "}).sort_values('importance', ascending=False)\n",
    "importance_df.head(10)"
   ]
  },
  {
   "cell_type": "code",
   "execution_count": null,
   "metadata": {
    "execution": {
     "iopub.execute_input": "2021-08-19T18:31:09.265298Z",
     "iopub.status.busy": "2021-08-19T18:31:09.262524Z",
     "iopub.status.idle": "2021-08-19T18:31:09.778182Z",
     "shell.execute_reply": "2021-08-19T18:31:09.776922Z",
     "shell.execute_reply.started": "2021-08-19T18:31:09.265251Z"
    }
   },
   "outputs": [],
   "source": [
    "plt.title('Important Features')\n",
    "sns.barplot(data=importance_df.head(10), x='importance', y='feature');"
   ]
  },
  {
   "cell_type": "code",
   "execution_count": null,
   "metadata": {
    "execution": {
     "iopub.execute_input": "2021-08-19T18:31:11.251047Z",
     "iopub.status.busy": "2021-08-19T18:31:11.250538Z",
     "iopub.status.idle": "2021-08-19T18:31:11.258450Z",
     "shell.execute_reply": "2021-08-19T18:31:11.256539Z",
     "shell.execute_reply.started": "2021-08-19T18:31:11.251002Z"
    }
   },
   "outputs": [],
   "source": [
    "jovian.commit()"
   ]
  },
  {
   "cell_type": "markdown",
   "metadata": {},
   "source": [
    "## Hyperparameter Tuning "
   ]
  },
  {
   "cell_type": "code",
   "execution_count": null,
   "metadata": {
    "execution": {
     "iopub.execute_input": "2021-08-19T18:31:11.272440Z",
     "iopub.status.busy": "2021-08-19T18:31:11.272122Z",
     "iopub.status.idle": "2021-08-19T18:31:11.281297Z",
     "shell.execute_reply": "2021-08-19T18:31:11.279504Z",
     "shell.execute_reply.started": "2021-08-19T18:31:11.272410Z"
    }
   },
   "outputs": [],
   "source": [
    "def test_params(model,**params):\n",
    "    if (model=='XGBoost'):\n",
    "        model = XGBRegressor(objective='reg:squarederror',\n",
    "                             tree_method= 'gpu_hist',\n",
    "                             random_state=42, n_jobs=-1, **params).fit(train_inputs, train_targets)\n",
    "        train_rmse = mean_squared_error(model.predict(train_inputs), train_targets, squared=False)\n",
    "        val_rmse = mean_squared_error(model.predict(val_inputs), val_targets, squared=False)\n",
    "        return train_rmse, val_rmse\n",
    "    else :\n",
    "        model = AdaBoostRegressor(random_state=42, **params).fit(train_inputs, train_targets)\n",
    "        train_rmse = mean_squared_error(model.predict(train_inputs), train_targets, squared=False)\n",
    "        val_rmse = mean_squared_error(model.predict(val_inputs), val_targets, squared=False)\n",
    "        return train_rmse, val_rmse"
   ]
  },
  {
   "cell_type": "code",
   "execution_count": null,
   "metadata": {
    "execution": {
     "iopub.execute_input": "2021-08-19T18:31:11.285930Z",
     "iopub.status.busy": "2021-08-19T18:31:11.285077Z",
     "iopub.status.idle": "2021-08-19T18:31:11.296546Z",
     "shell.execute_reply": "2021-08-19T18:31:11.295082Z",
     "shell.execute_reply.started": "2021-08-19T18:31:11.285870Z"
    }
   },
   "outputs": [],
   "source": [
    "def test_param_and_plot(param_name, param_values,model):\n",
    "    train_errors, val_errors = [], [] \n",
    "    for value in param_values:\n",
    "        params = {param_name: value}\n",
    "        train_rmse, val_rmse = test_params(model,**params)\n",
    "        train_errors.append(train_rmse)\n",
    "        val_errors.append(val_rmse)\n",
    "    plt.figure(figsize=(10,6))\n",
    "    plt.title('Overfitting curve: ' + param_name)\n",
    "    plt.plot(param_values, train_errors, 'b-o')\n",
    "    plt.plot(param_values, val_errors, 'r-o')\n",
    "    plt.xlabel(param_name)\n",
    "    plt.ylabel('RMSE')\n",
    "    plt.legend(['Training', 'Validation'])"
   ]
  },
  {
   "cell_type": "markdown",
   "metadata": {},
   "source": [
    "## Hyperparameter tuning for the XGBoost model"
   ]
  },
  {
   "cell_type": "markdown",
   "metadata": {},
   "source": [
    "### max_depth\n",
    "\n",
    "We have to make sure the value of max_depth is in balance or our ML model will memorize the historical which would lead to overfitting and we don't want that."
   ]
  },
  {
   "cell_type": "code",
   "execution_count": null,
   "metadata": {
    "execution": {
     "iopub.execute_input": "2021-08-19T18:43:30.249010Z",
     "iopub.status.busy": "2021-08-19T18:43:30.248439Z",
     "iopub.status.idle": "2021-08-19T18:44:04.734380Z",
     "shell.execute_reply": "2021-08-19T18:44:04.733177Z",
     "shell.execute_reply.started": "2021-08-19T18:43:30.248934Z"
    }
   },
   "outputs": [],
   "source": [
    "test_param_and_plot('max_depth', [2,4,5,6,8,10],'XGBoost')"
   ]
  },
  {
   "cell_type": "markdown",
   "metadata": {},
   "source": [
    "Best depth is for max_depth=5"
   ]
  },
  {
   "cell_type": "markdown",
   "metadata": {},
   "source": [
    "###  learning_rate"
   ]
  },
  {
   "cell_type": "code",
   "execution_count": null,
   "metadata": {
    "execution": {
     "iopub.execute_input": "2021-08-19T18:44:04.736605Z",
     "iopub.status.busy": "2021-08-19T18:44:04.736160Z",
     "iopub.status.idle": "2021-08-19T18:44:23.901783Z",
     "shell.execute_reply": "2021-08-19T18:44:23.900783Z",
     "shell.execute_reply.started": "2021-08-19T18:44:04.736561Z"
    }
   },
   "outputs": [],
   "source": [
    "test_param_and_plot('learning_rate', [0.001,0.01,0.1,0.3],'XGBoost')"
   ]
  },
  {
   "cell_type": "markdown",
   "metadata": {},
   "source": [
    "Best learning rate is: 0.1"
   ]
  },
  {
   "cell_type": "markdown",
   "metadata": {},
   "source": [
    "### n_estimators\n",
    "\n",
    "The higher the number of estimators , the higher the accuracy of the model but to train a large amount of estimators it takes alot of time."
   ]
  },
  {
   "cell_type": "code",
   "execution_count": null,
   "metadata": {
    "execution": {
     "iopub.execute_input": "2021-08-19T18:44:23.903989Z",
     "iopub.status.busy": "2021-08-19T18:44:23.903512Z",
     "iopub.status.idle": "2021-08-19T18:44:56.030922Z",
     "shell.execute_reply": "2021-08-19T18:44:56.029846Z",
     "shell.execute_reply.started": "2021-08-19T18:44:23.903931Z"
    }
   },
   "outputs": [],
   "source": [
    "test_param_and_plot('n_estimators', [10,20,50,100,500],'XGBoost')"
   ]
  },
  {
   "cell_type": "markdown",
   "metadata": {},
   "source": [
    "Best number of estimators found: 20"
   ]
  },
  {
   "cell_type": "markdown",
   "metadata": {},
   "source": [
    "### min_child_weight\n",
    "\n",
    "Defines the minimum sum of weights of all observations required in a child.\n",
    "It is used to control over-fitting. However, too high values can lead to under-fitting so cross-validation techniques need to be applied to define the best value for the model. "
   ]
  },
  {
   "cell_type": "code",
   "execution_count": null,
   "metadata": {
    "execution": {
     "iopub.execute_input": "2021-08-19T18:44:56.033179Z",
     "iopub.status.busy": "2021-08-19T18:44:56.032661Z",
     "iopub.status.idle": "2021-08-19T18:45:20.084288Z",
     "shell.execute_reply": "2021-08-19T18:45:20.083081Z",
     "shell.execute_reply.started": "2021-08-19T18:44:56.033132Z"
    }
   },
   "outputs": [],
   "source": [
    "test_param_and_plot('min_child_weight', [0.5,1,2,4,5],'XGBoost')"
   ]
  },
  {
   "cell_type": "markdown",
   "metadata": {},
   "source": [
    "Best value before underfitting is 1"
   ]
  },
  {
   "cell_type": "markdown",
   "metadata": {},
   "source": [
    "### eta\n"
   ]
  },
  {
   "cell_type": "code",
   "execution_count": null,
   "metadata": {
    "execution": {
     "iopub.execute_input": "2021-08-19T18:45:20.093884Z",
     "iopub.status.busy": "2021-08-19T18:45:20.091194Z",
     "iopub.status.idle": "2021-08-19T18:45:39.022570Z",
     "shell.execute_reply": "2021-08-19T18:45:39.021418Z",
     "shell.execute_reply.started": "2021-08-19T18:45:20.093804Z"
    }
   },
   "outputs": [],
   "source": [
    "test_param_and_plot('eta', [0.001,0.01,0.1,0.2],'XGBoost')"
   ]
  },
  {
   "cell_type": "markdown",
   "metadata": {},
   "source": [
    "Best value: 0.1"
   ]
  },
  {
   "cell_type": "markdown",
   "metadata": {},
   "source": [
    "### subsample\n"
   ]
  },
  {
   "cell_type": "code",
   "execution_count": null,
   "metadata": {
    "execution": {
     "iopub.execute_input": "2021-08-19T18:45:39.026986Z",
     "iopub.status.busy": "2021-08-19T18:45:39.026651Z",
     "iopub.status.idle": "2021-08-19T18:45:54.009864Z",
     "shell.execute_reply": "2021-08-19T18:45:54.008495Z",
     "shell.execute_reply.started": "2021-08-19T18:45:39.026953Z"
    }
   },
   "outputs": [],
   "source": [
    "test_param_and_plot('subsample', [0.5,0.8,1],'XGBoost')"
   ]
  },
  {
   "cell_type": "markdown",
   "metadata": {},
   "source": [
    "### alpha\n"
   ]
  },
  {
   "cell_type": "code",
   "execution_count": null,
   "metadata": {
    "execution": {
     "iopub.execute_input": "2021-08-19T18:46:46.385712Z",
     "iopub.status.busy": "2021-08-19T18:46:46.385350Z",
     "iopub.status.idle": "2021-08-19T18:47:10.833310Z",
     "shell.execute_reply": "2021-08-19T18:47:10.832065Z",
     "shell.execute_reply.started": "2021-08-19T18:46:46.385673Z"
    }
   },
   "outputs": [],
   "source": [
    "test_param_and_plot('alpha', [0,1,50,100,1000],'XGBoost')"
   ]
  },
  {
   "cell_type": "markdown",
   "metadata": {},
   "source": [
    "## Hyperparameter Tuning with Adaboost Regressor model:"
   ]
  },
  {
   "cell_type": "markdown",
   "metadata": {},
   "source": [
    "## n_estimators"
   ]
  },
  {
   "cell_type": "code",
   "execution_count": null,
   "metadata": {},
   "outputs": [],
   "source": [
    "test_param_and_plot('n_estimators', [10,20,50,100,500],'Adaboost')"
   ]
  },
  {
   "cell_type": "markdown",
   "metadata": {},
   "source": [
    "## learning rate"
   ]
  },
  {
   "cell_type": "code",
   "execution_count": null,
   "metadata": {},
   "outputs": [],
   "source": [
    "test_param_and_plot('learning_rate', [0.001,0.8,1],'AdaBoost')"
   ]
  },
  {
   "cell_type": "markdown",
   "metadata": {},
   "source": [
    "## loss\n"
   ]
  },
  {
   "cell_type": "code",
   "execution_count": null,
   "metadata": {},
   "outputs": [],
   "source": [
    "test_param_and_plot('loss', ['linear', 'square', 'exponential'],'AdaBoost')"
   ]
  },
  {
   "cell_type": "markdown",
   "metadata": {},
   "source": [
    "## Training models with the suitable hyperparameters"
   ]
  },
  {
   "cell_type": "code",
   "execution_count": null,
   "metadata": {
    "execution": {
     "iopub.execute_input": "2021-08-19T18:47:10.836106Z",
     "iopub.status.busy": "2021-08-19T18:47:10.835387Z",
     "iopub.status.idle": "2021-08-19T18:47:10.842654Z",
     "shell.execute_reply": "2021-08-19T18:47:10.841422Z",
     "shell.execute_reply.started": "2021-08-19T18:47:10.836055Z"
    }
   },
   "outputs": [],
   "source": [
    "xgbmodel_final=XGBRegressor(objective='reg:squarederror',\n",
    "                             tree_method= 'gpu_hist',random_state=42, n_jobs=-1, n_estimators=20, max_depth=5,learning_rate=0.1,subsample=1,min_child_weight=1)"
   ]
  },
  {
   "cell_type": "code",
   "execution_count": null,
   "metadata": {
    "execution": {
     "iopub.execute_input": "2021-08-19T18:47:10.846224Z",
     "iopub.status.busy": "2021-08-19T18:47:10.845627Z",
     "iopub.status.idle": "2021-08-19T18:47:46.375109Z",
     "shell.execute_reply": "2021-08-19T18:47:46.373577Z",
     "shell.execute_reply.started": "2021-08-19T18:47:10.846173Z"
    }
   },
   "outputs": [],
   "source": [
    "xgbmodel_final.fit(train_inputs,train_targets)"
   ]
  },
  {
   "cell_type": "code",
   "execution_count": null,
   "metadata": {},
   "outputs": [],
   "source": [
    "adamodel_final=AdaBoostRegressor(random_state=42,  n_estimators=20,learning_rate=0.8,loss='square',)"
   ]
  },
  {
   "cell_type": "code",
   "execution_count": null,
   "metadata": {},
   "outputs": [],
   "source": [
    "adamodel_final.fit(train_inputs,train_targets)"
   ]
  },
  {
   "cell_type": "markdown",
   "metadata": {},
   "source": [
    "## Making Predictions and Evaluating the Model\n",
    "\n",
    "We can now use the trained model to make predictions on the training, test "
   ]
  },
  {
   "cell_type": "markdown",
   "metadata": {},
   "source": [
    "## for XGB model:"
   ]
  },
  {
   "cell_type": "code",
   "execution_count": null,
   "metadata": {
    "execution": {
     "iopub.execute_input": "2021-08-19T18:47:46.961212Z",
     "iopub.status.busy": "2021-08-19T18:47:46.960851Z",
     "iopub.status.idle": "2021-08-19T18:47:47.989008Z",
     "shell.execute_reply": "2021-08-19T18:47:47.987576Z",
     "shell.execute_reply.started": "2021-08-19T18:47:46.961181Z"
    }
   },
   "outputs": [],
   "source": [
    "train_preds = xgbmodel_final.predict(train_inputs)\n",
    "train_preds"
   ]
  },
  {
   "cell_type": "code",
   "execution_count": null,
   "metadata": {
    "execution": {
     "iopub.execute_input": "2021-08-19T18:47:47.993130Z",
     "iopub.status.busy": "2021-08-19T18:47:47.992636Z",
     "iopub.status.idle": "2021-08-19T18:47:48.009138Z",
     "shell.execute_reply": "2021-08-19T18:47:48.007718Z",
     "shell.execute_reply.started": "2021-08-19T18:47:47.993082Z"
    }
   },
   "outputs": [],
   "source": [
    "rmse(train_targets, train_preds)"
   ]
  },
  {
   "cell_type": "code",
   "execution_count": null,
   "metadata": {
    "execution": {
     "iopub.execute_input": "2021-08-19T18:47:48.012078Z",
     "iopub.status.busy": "2021-08-19T18:47:48.011586Z",
     "iopub.status.idle": "2021-08-19T18:47:48.139445Z",
     "shell.execute_reply": "2021-08-19T18:47:48.138321Z",
     "shell.execute_reply.started": "2021-08-19T18:47:48.012029Z"
    }
   },
   "outputs": [],
   "source": [
    "val_preds = xgbmodel_final.predict(val_inputs)\n",
    "val_preds"
   ]
  },
  {
   "cell_type": "code",
   "execution_count": null,
   "metadata": {
    "execution": {
     "iopub.execute_input": "2021-08-19T18:47:48.141504Z",
     "iopub.status.busy": "2021-08-19T18:47:48.141047Z",
     "iopub.status.idle": "2021-08-19T18:47:48.152413Z",
     "shell.execute_reply": "2021-08-19T18:47:48.150743Z",
     "shell.execute_reply.started": "2021-08-19T18:47:48.141445Z"
    }
   },
   "outputs": [],
   "source": [
    "rmse(val_targets, val_preds)"
   ]
  },
  {
   "cell_type": "code",
   "execution_count": null,
   "metadata": {
    "execution": {
     "iopub.execute_input": "2021-08-19T18:59:31.349070Z",
     "iopub.status.busy": "2021-08-19T18:59:31.348635Z",
     "iopub.status.idle": "2021-08-19T18:59:31.663180Z",
     "shell.execute_reply": "2021-08-19T18:59:31.662079Z",
     "shell.execute_reply.started": "2021-08-19T18:59:31.349037Z"
    }
   },
   "outputs": [],
   "source": [
    "test_preds = xgbmodel_final.predict(test_inputs)\n",
    "test_preds"
   ]
  },
  {
   "cell_type": "markdown",
   "metadata": {},
   "source": [
    "## for Adaboost model:"
   ]
  },
  {
   "cell_type": "code",
   "execution_count": null,
   "metadata": {},
   "outputs": [],
   "source": [
    "train_preds = adamodel_final.predict(train_inputs)\n",
    "train_preds"
   ]
  },
  {
   "cell_type": "code",
   "execution_count": null,
   "metadata": {},
   "outputs": [],
   "source": [
    "rmse(train_targets, train_preds)"
   ]
  },
  {
   "cell_type": "code",
   "execution_count": null,
   "metadata": {},
   "outputs": [],
   "source": [
    "val_preds = adamodel_final.predict(val_inputs)\n",
    "val_preds"
   ]
  },
  {
   "cell_type": "code",
   "execution_count": null,
   "metadata": {},
   "outputs": [],
   "source": [
    "rmse(val_targets, val_preds)"
   ]
  },
  {
   "cell_type": "code",
   "execution_count": null,
   "metadata": {},
   "outputs": [],
   "source": [
    "test_preds = adamodel_final.predict(test_inputs)\n",
    "test_preds"
   ]
  },
  {
   "cell_type": "markdown",
   "metadata": {},
   "source": [
    "#### The RMSE for validation set on the Adaboost model is slightly lower than the XGBmodel, so we can say that the Adaboost model is more accurate in this case."
   ]
  },
  {
   "cell_type": "markdown",
   "metadata": {},
   "source": [
    "## Let's Save and Load our Models\n",
    "\n",
    "We can use the `joblib` module to save and load Python objects on the disk. "
   ]
  },
  {
   "cell_type": "code",
   "execution_count": null,
   "metadata": {
    "execution": {
     "iopub.execute_input": "2021-08-19T18:59:50.412194Z",
     "iopub.status.busy": "2021-08-19T18:59:50.411790Z",
     "iopub.status.idle": "2021-08-19T18:59:50.418196Z",
     "shell.execute_reply": "2021-08-19T18:59:50.415625Z",
     "shell.execute_reply.started": "2021-08-19T18:59:50.412164Z"
    }
   },
   "outputs": [],
   "source": [
    "import joblib"
   ]
  },
  {
   "cell_type": "code",
   "execution_count": null,
   "metadata": {
    "execution": {
     "iopub.execute_input": "2021-08-19T19:00:11.980719Z",
     "iopub.status.busy": "2021-08-19T19:00:11.980310Z",
     "iopub.status.idle": "2021-08-19T19:00:11.987830Z",
     "shell.execute_reply": "2021-08-19T19:00:11.986291Z",
     "shell.execute_reply.started": "2021-08-19T19:00:11.980685Z"
    }
   },
   "outputs": [],
   "source": [
    "taxi_trip = {\n",
    "    'adaboost': adamodel_final,\n",
    "    'xgboost': xgbmodel_final,\n",
    "    'scaler': scaler,\n",
    "    'encoder': encoder,\n",
    "    'input_cols': input_cols,\n",
    "    'target_col': target_cols,\n",
    "    'numeric_cols': numeric_cols,\n",
    "    'categorical_cols': categorical_cols\n",
    "}"
   ]
  },
  {
   "cell_type": "markdown",
   "metadata": {},
   "source": [
    "We can now save this to a file using `joblib.dump`"
   ]
  },
  {
   "cell_type": "code",
   "execution_count": null,
   "metadata": {
    "execution": {
     "iopub.execute_input": "2021-08-19T19:00:15.846177Z",
     "iopub.status.busy": "2021-08-19T19:00:15.845715Z",
     "iopub.status.idle": "2021-08-19T19:00:16.109121Z",
     "shell.execute_reply": "2021-08-19T19:00:16.107529Z",
     "shell.execute_reply.started": "2021-08-19T19:00:15.846143Z"
    }
   },
   "outputs": [],
   "source": [
    "joblib.dump(taxi_trip, 'taxi_trip.joblib')"
   ]
  },
  {
   "cell_type": "code",
   "execution_count": null,
   "metadata": {
    "execution": {
     "iopub.execute_input": "2021-08-19T19:00:20.541193Z",
     "iopub.status.busy": "2021-08-19T19:00:20.540786Z",
     "iopub.status.idle": "2021-08-19T19:00:20.675804Z",
     "shell.execute_reply": "2021-08-19T19:00:20.674599Z",
     "shell.execute_reply.started": "2021-08-19T19:00:20.541160Z"
    }
   },
   "outputs": [],
   "source": [
    "taxi_trip1 = joblib.load('taxi_trip.joblib')"
   ]
  },
  {
   "cell_type": "code",
   "execution_count": null,
   "metadata": {
    "execution": {
     "iopub.status.busy": "2021-08-19T18:45:58.765388Z",
     "iopub.status.idle": "2021-08-19T18:45:58.766260Z"
    }
   },
   "outputs": [],
   "source": [
    "jovian.commit(outputs=['taxi_trip.joblib'])"
   ]
  },
  {
   "cell_type": "markdown",
   "metadata": {},
   "source": [
    "# Summary"
   ]
  },
  {
   "cell_type": "markdown",
   "metadata": {},
   "source": [
    "## which hours are pickup and dropoff higher?"
   ]
  },
  {
   "cell_type": "code",
   "execution_count": null,
   "metadata": {},
   "outputs": [],
   "source": [
    "plt.figure(figsize=(8,5))\n",
    "sns.countplot(x=train_df['pickup_hour']).set_title(\"Pickup Hours Distribution\")"
   ]
  },
  {
   "cell_type": "markdown",
   "metadata": {},
   "source": [
    "## which hours are pickup and dropoff higher ?"
   ]
  },
  {
   "cell_type": "code",
   "execution_count": null,
   "metadata": {},
   "outputs": [],
   "source": [
    "plt.figure(figsize=(8,5))\n",
    "sns.countplot(x=train_df['pickup_dayofweek']).set_title(\"Pickup Day of Week Distribution\")"
   ]
  },
  {
   "cell_type": "markdown",
   "metadata": {},
   "source": [
    "## most important features of the dataset"
   ]
  },
  {
   "cell_type": "code",
   "execution_count": null,
   "metadata": {},
   "outputs": [],
   "source": [
    "plt.title('Important Features')\n",
    "sns.barplot(data=importance_df.head(10), x='importance', y='feature');"
   ]
  },
  {
   "cell_type": "markdown",
   "metadata": {},
   "source": [
    "## Best Model"
   ]
  },
  {
   "cell_type": "code",
   "execution_count": null,
   "metadata": {},
   "outputs": [],
   "source": [
    "#Adaboost\n",
    "val_preds = adamodel_final.predict(val_inputs)\n",
    "val_preds\n",
    "\n",
    "\n",
    "rmse(val_targets, val_preds)"
   ]
  },
  {
   "cell_type": "code",
   "execution_count": null,
   "metadata": {},
   "outputs": [],
   "source": [
    "#XGBmodel\n",
    "val_preds = xgbmodel_final.predict(val_inputs)\n",
    "val_preds\n",
    "\n",
    "rmse(val_targets, val_preds)"
   ]
  },
  {
   "cell_type": "markdown",
   "metadata": {},
   "source": [
    "#### The RMSE for validation set on the Adaboost model is slightly lower than the XGBmodel, so we can say that the Adaboost model is more accurate in this case."
   ]
  },
  {
   "cell_type": "markdown",
   "metadata": {},
   "source": [
    "# Future Work"
   ]
  },
  {
   "cell_type": "markdown",
   "metadata": {},
   "source": [
    "This dataset can be used to build a model that predicts the total ride duration of taxi trips in New York City. Our primary dataset is one released by the NYC Taxi and Limousine Commission, which includes pickup time, geo-coordinates, number of passengers, and several other variables."
   ]
  },
  {
   "cell_type": "markdown",
   "metadata": {},
   "source": [
    "## References"
   ]
  },
  {
   "cell_type": "markdown",
   "metadata": {},
   "source": [
    "* [Kaggle](https://www.kaggle.com/c/nyc-taxi-trip-duration/code)\n",
    "* [Scikit-learn](https://scikit-learn.org/)\n",
    "* [Parameter tuning with XGBoost](https://www.analyticsvidhya.com/blog/2016/03/complete-guide-parameter-tuning-xgboost-with-codes-python/)\n",
    "* [Jovian AI Machine learning course](https://jovian.ai/learn/machine-learning-with-python-zero-to-gbms/)\n",
    "* [Notebook](https://www.kaggle.com/yurimhwang/new-york-city-taxi-trip-duration-yr)"
   ]
  },
  {
   "cell_type": "markdown",
   "metadata": {},
   "source": [
    "## Submit project\n"
   ]
  },
  {
   "cell_type": "code",
   "execution_count": null,
   "metadata": {
    "execution": {
     "iopub.status.busy": "2021-08-19T18:34:17.827200Z",
     "iopub.status.idle": "2021-08-19T18:34:17.828172Z"
    }
   },
   "outputs": [],
   "source": [
    "jovian.submit(assignment=\"zerotogbms-project\")"
   ]
  },
  {
   "cell_type": "code",
   "execution_count": null,
   "metadata": {},
   "outputs": [],
   "source": []
  }
 ],
 "metadata": {
  "kernelspec": {
   "display_name": "Python 3 (ipykernel)",
   "language": "python",
   "name": "python3"
  },
  "language_info": {
   "codemirror_mode": {
    "name": "ipython",
    "version": 3
   },
   "file_extension": ".py",
   "mimetype": "text/x-python",
   "name": "python",
   "nbconvert_exporter": "python",
   "pygments_lexer": "ipython3",
   "version": "3.9.6"
  }
 },
 "nbformat": 4,
 "nbformat_minor": 4
}
